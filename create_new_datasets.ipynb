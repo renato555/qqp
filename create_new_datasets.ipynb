{
 "cells": [
  {
   "cell_type": "code",
   "execution_count": 1,
   "metadata": {
    "collapsed": true,
    "ExecuteTime": {
     "end_time": "2023-05-27T18:14:25.047424164Z",
     "start_time": "2023-05-27T18:14:24.576766987Z"
    }
   },
   "outputs": [],
   "source": [
    "import pandas as pd\n",
    "import numpy as np\n",
    "import matplotlib.pyplot as plt\n",
    "from collections import defaultdict\n",
    "import sys\n",
    "import random\n",
    "from itertools import product"
   ]
  },
  {
   "cell_type": "markdown",
   "source": [
    "# load datasets"
   ],
   "metadata": {
    "collapsed": false
   }
  },
  {
   "cell_type": "code",
   "execution_count": 2,
   "outputs": [
    {
     "data": {
      "text/plain": "     qid1    qid2                                          question1  \\\n0  259957  173243          What is the best Naruto episode to watch?   \n1  219751    3792  Is there any evidence that can prove the exist...   \n2   40301  114681  Will I be in trouble if I download movies from...   \n3  479549  479550  What should I do to start my own Publication a...   \n4   18578   27537      What is the difference between lard and suet?   \n\n                                           question2  is_duplicate  pair_id  \n0                 What are the best Naruto episodes?             1   167716  \n1  Is there any proof which can be given for the ...             1   137933  \n2                Is it the end of torrents in India?             1    66138  \n3  What should I do if my parents won't let me st...             0   350789  \n4  Baking: What is the difference between shorten...             0    14372  ",
      "text/html": "<div>\n<style scoped>\n    .dataframe tbody tr th:only-of-type {\n        vertical-align: middle;\n    }\n\n    .dataframe tbody tr th {\n        vertical-align: top;\n    }\n\n    .dataframe thead th {\n        text-align: right;\n    }\n</style>\n<table border=\"1\" class=\"dataframe\">\n  <thead>\n    <tr style=\"text-align: right;\">\n      <th></th>\n      <th>qid1</th>\n      <th>qid2</th>\n      <th>question1</th>\n      <th>question2</th>\n      <th>is_duplicate</th>\n      <th>pair_id</th>\n    </tr>\n  </thead>\n  <tbody>\n    <tr>\n      <th>0</th>\n      <td>259957</td>\n      <td>173243</td>\n      <td>What is the best Naruto episode to watch?</td>\n      <td>What are the best Naruto episodes?</td>\n      <td>1</td>\n      <td>167716</td>\n    </tr>\n    <tr>\n      <th>1</th>\n      <td>219751</td>\n      <td>3792</td>\n      <td>Is there any evidence that can prove the exist...</td>\n      <td>Is there any proof which can be given for the ...</td>\n      <td>1</td>\n      <td>137933</td>\n    </tr>\n    <tr>\n      <th>2</th>\n      <td>40301</td>\n      <td>114681</td>\n      <td>Will I be in trouble if I download movies from...</td>\n      <td>Is it the end of torrents in India?</td>\n      <td>1</td>\n      <td>66138</td>\n    </tr>\n    <tr>\n      <th>3</th>\n      <td>479549</td>\n      <td>479550</td>\n      <td>What should I do to start my own Publication a...</td>\n      <td>What should I do if my parents won't let me st...</td>\n      <td>0</td>\n      <td>350789</td>\n    </tr>\n    <tr>\n      <th>4</th>\n      <td>18578</td>\n      <td>27537</td>\n      <td>What is the difference between lard and suet?</td>\n      <td>Baking: What is the difference between shorten...</td>\n      <td>0</td>\n      <td>14372</td>\n    </tr>\n  </tbody>\n</table>\n</div>"
     },
     "execution_count": 2,
     "metadata": {},
     "output_type": "execute_result"
    }
   ],
   "source": [
    "data_pairs = pd.read_csv(\"./data/train_split.csv\")\n",
    "data_pairs.head()"
   ],
   "metadata": {
    "collapsed": false,
    "ExecuteTime": {
     "end_time": "2023-05-27T18:14:25.628561739Z",
     "start_time": "2023-05-27T18:14:25.090243980Z"
    }
   }
  },
  {
   "cell_type": "code",
   "execution_count": 3,
   "outputs": [
    {
     "data": {
      "text/plain": "   qid1  qid2                                          question1  \\\n0     1     2  What is the step by step guide to invest in sh...   \n1     3     4  What is the story of Kohinoor (Koh-i-Noor) Dia...   \n2     5     6  How can I increase the speed of my internet co...   \n3     7     8  Why am I mentally very lonely? How can I solve...   \n4     9    10  Which one dissolve in water quikly sugar, salt...   \n\n                                           question2  is_duplicate  \n0  What is the step by step guide to invest in sh...             0  \n1  What would happen if the Indian government sto...             0  \n2  How can Internet speed be increased by hacking...             0  \n3  Find the remainder when [math]23^{24}[/math] i...             0  \n4            Which fish would survive in salt water?             0  ",
      "text/html": "<div>\n<style scoped>\n    .dataframe tbody tr th:only-of-type {\n        vertical-align: middle;\n    }\n\n    .dataframe tbody tr th {\n        vertical-align: top;\n    }\n\n    .dataframe thead th {\n        text-align: right;\n    }\n</style>\n<table border=\"1\" class=\"dataframe\">\n  <thead>\n    <tr style=\"text-align: right;\">\n      <th></th>\n      <th>qid1</th>\n      <th>qid2</th>\n      <th>question1</th>\n      <th>question2</th>\n      <th>is_duplicate</th>\n    </tr>\n  </thead>\n  <tbody>\n    <tr>\n      <th>0</th>\n      <td>1</td>\n      <td>2</td>\n      <td>What is the step by step guide to invest in sh...</td>\n      <td>What is the step by step guide to invest in sh...</td>\n      <td>0</td>\n    </tr>\n    <tr>\n      <th>1</th>\n      <td>3</td>\n      <td>4</td>\n      <td>What is the story of Kohinoor (Koh-i-Noor) Dia...</td>\n      <td>What would happen if the Indian government sto...</td>\n      <td>0</td>\n    </tr>\n    <tr>\n      <th>2</th>\n      <td>5</td>\n      <td>6</td>\n      <td>How can I increase the speed of my internet co...</td>\n      <td>How can Internet speed be increased by hacking...</td>\n      <td>0</td>\n    </tr>\n    <tr>\n      <th>3</th>\n      <td>7</td>\n      <td>8</td>\n      <td>Why am I mentally very lonely? How can I solve...</td>\n      <td>Find the remainder when [math]23^{24}[/math] i...</td>\n      <td>0</td>\n    </tr>\n    <tr>\n      <th>4</th>\n      <td>9</td>\n      <td>10</td>\n      <td>Which one dissolve in water quikly sugar, salt...</td>\n      <td>Which fish would survive in salt water?</td>\n      <td>0</td>\n    </tr>\n  </tbody>\n</table>\n</div>"
     },
     "execution_count": 3,
     "metadata": {},
     "output_type": "execute_result"
    }
   ],
   "source": [
    "all_data_pairs = pd.read_csv(\"./data/all_possible_pairs.csv\")\n",
    "all_data_pairs.head()"
   ],
   "metadata": {
    "collapsed": false,
    "ExecuteTime": {
     "end_time": "2023-05-27T18:14:26.492116804Z",
     "start_time": "2023-05-27T18:14:25.627483740Z"
    }
   }
  },
  {
   "cell_type": "code",
   "execution_count": 4,
   "outputs": [],
   "source": [
    "qids_to_index = dict()\n",
    "\n",
    "for index, (qid1, qid2, question1, question2, is_duplicate) in all_data_pairs.iterrows():\n",
    "    qids_to_index[(qid1, qid2)] = index\n",
    "\n",
    "def get_pair_index(qid1, qid2):\n",
    "    if (qid1, qid2) in qids_to_index:\n",
    "        return qids_to_index[(qid1, qid2)]\n",
    "    return qids_to_index[(qid2, qid1)]"
   ],
   "metadata": {
    "collapsed": false,
    "ExecuteTime": {
     "end_time": "2023-05-27T18:14:45.745006302Z",
     "start_time": "2023-05-27T18:14:26.489834383Z"
    }
   }
  },
  {
   "cell_type": "code",
   "execution_count": 5,
   "outputs": [],
   "source": [
    "test_data_pairs = pd.read_csv(\"./data/test_split.csv\")\n",
    "test_pairs = set()\n",
    "for _, (qid1, qid2, _, _, is_duplicate, _) in test_data_pairs.iterrows():\n",
    "    lower_id = min(qid1, qid2)\n",
    "    higher_id = max(qid1, qid2)\n",
    "    test_pairs.add((lower_id, higher_id))"
   ],
   "metadata": {
    "collapsed": false,
    "ExecuteTime": {
     "end_time": "2023-05-27T18:14:47.012861946Z",
     "start_time": "2023-05-27T18:14:45.747152791Z"
    }
   }
  },
  {
   "cell_type": "markdown",
   "source": [
    "# create graphs"
   ],
   "metadata": {
    "collapsed": false
   }
  },
  {
   "cell_type": "code",
   "execution_count": 6,
   "outputs": [],
   "source": [
    "graph_similar = defaultdict(lambda: [])\n",
    "original_similar_pairs = set()\n",
    "for _, (qid1, qid2, _, _, is_duplicate, _) in data_pairs.iterrows():\n",
    "    if not is_duplicate: continue\n",
    "\n",
    "    graph_similar[qid1].append(qid2)\n",
    "    graph_similar[qid2].append(qid1)\n",
    "\n",
    "    lower_id = min(qid1, qid2)\n",
    "    higher_id = max(qid1, qid2)\n",
    "    original_similar_pairs.add((lower_id, higher_id))"
   ],
   "metadata": {
    "collapsed": false,
    "ExecuteTime": {
     "end_time": "2023-05-27T18:14:58.617934573Z",
     "start_time": "2023-05-27T18:14:47.015979896Z"
    }
   }
  },
  {
   "cell_type": "code",
   "execution_count": 7,
   "outputs": [],
   "source": [
    "graph_non_similar = defaultdict(lambda: [])\n",
    "original_non_similar_pairs = set()\n",
    "for _, (qid1, qid2, _, _, is_duplicate, _) in data_pairs.iterrows():\n",
    "    if is_duplicate: continue\n",
    "\n",
    "    graph_non_similar[qid1].append(qid2)\n",
    "    graph_non_similar[qid2].append(qid1)\n",
    "\n",
    "    lower_id = min(qid1, qid2)\n",
    "    higher_id = max(qid1, qid2)\n",
    "    original_non_similar_pairs.add((lower_id, higher_id))"
   ],
   "metadata": {
    "collapsed": false,
    "ExecuteTime": {
     "end_time": "2023-05-27T18:15:10.436679612Z",
     "start_time": "2023-05-27T18:14:58.662298160Z"
    }
   }
  },
  {
   "cell_type": "markdown",
   "source": [
    "# calculate components"
   ],
   "metadata": {
    "collapsed": false
   }
  },
  {
   "cell_type": "code",
   "execution_count": 8,
   "outputs": [],
   "source": [
    "labels = defaultdict(lambda : 0)\n",
    "components = defaultdict(lambda: [])\n",
    "\n",
    "def visit(node, level):\n",
    "    stack = [node]\n",
    "    while len(stack) > 0:\n",
    "        v = stack.pop()\n",
    "        if labels[v] != 0: continue\n",
    "        labels[v] = level\n",
    "        components[level].append(v)\n",
    "        stack += graph_similar[v]\n",
    "\n",
    "level = 0\n",
    "for node in graph_similar:\n",
    "    if labels[node] == 0:\n",
    "        level += 1\n",
    "        visit(node, level)"
   ],
   "metadata": {
    "collapsed": false,
    "ExecuteTime": {
     "end_time": "2023-05-27T18:15:10.706547655Z",
     "start_time": "2023-05-27T18:15:10.452796831Z"
    }
   }
  },
  {
   "cell_type": "markdown",
   "source": [
    "# pozitivne augmentacije"
   ],
   "metadata": {
    "collapsed": false
   }
  },
  {
   "cell_type": "code",
   "execution_count": 9,
   "outputs": [],
   "source": [
    "transitive_positive_neighbours = defaultdict(lambda : 200)\n",
    "\n",
    "def find_positive_transitive_neighbours(node):\n",
    "    depth = 1\n",
    "    visited = {node}\n",
    "    queue = [node]\n",
    "    while len(queue):\n",
    "        next_neighbours = [u for v in queue for u in graph_similar[v] if u not in visited]\n",
    "        for neighbour in next_neighbours:\n",
    "            visited.add(neighbour)\n",
    "            lower_id, higher_id = min(node, neighbour), max(node, neighbour)\n",
    "            transitive_positive_neighbours[(lower_id, higher_id)] = depth\n",
    "\n",
    "        depth += 1\n",
    "        queue = list(set(next_neighbours))\n",
    "\n",
    "for node in graph_similar:\n",
    "    find_positive_transitive_neighbours(node)"
   ],
   "metadata": {
    "collapsed": false,
    "ExecuteTime": {
     "end_time": "2023-05-27T18:15:11.664528671Z",
     "start_time": "2023-05-27T18:15:10.768725022Z"
    }
   }
  },
  {
   "cell_type": "code",
   "execution_count": 10,
   "outputs": [],
   "source": [
    "augmented_positive_pairs = [[], [], []]\n",
    "\n",
    "for pair, depth in transitive_positive_neighbours.items():\n",
    "    if depth == 1: continue\n",
    "    depth = min(depth, 4)\n",
    "    augmented_positive_pairs[depth - 2].append(pair)"
   ],
   "metadata": {
    "collapsed": false,
    "ExecuteTime": {
     "end_time": "2023-05-27T18:15:11.700419001Z",
     "start_time": "2023-05-27T18:15:11.681748978Z"
    }
   }
  },
  {
   "cell_type": "code",
   "execution_count": 11,
   "outputs": [
    {
     "data": {
      "text/plain": "[59615, 19004, 6847]"
     },
     "execution_count": 11,
     "metadata": {},
     "output_type": "execute_result"
    }
   ],
   "source": [
    "[len(pairs) for pairs in augmented_positive_pairs]"
   ],
   "metadata": {
    "collapsed": false,
    "ExecuteTime": {
     "end_time": "2023-05-27T18:15:11.706743663Z",
     "start_time": "2023-05-27T18:15:11.701692316Z"
    }
   }
  },
  {
   "cell_type": "markdown",
   "source": [
    "# negativne augmentacije"
   ],
   "metadata": {
    "collapsed": false
   }
  },
  {
   "cell_type": "code",
   "execution_count": 12,
   "outputs": [],
   "source": [
    "augmented_negative_pairs = set()\n",
    "\n",
    "for qid1, qid2 in original_non_similar_pairs:\n",
    "    k1 = labels[qid1]\n",
    "    k2 = labels[qid2]\n",
    "    if k1 == k2: continue\n",
    "\n",
    "    k1_components = components[k1]\n",
    "    k2_components = components[k2]\n",
    "    for qid1_new, qid2_new in product(k1_components, k2_components):\n",
    "        lower_id = min(qid1_new, qid2_new)\n",
    "        higher_id = max(qid1_new, qid2_new)\n",
    "        augmented_negative_pairs.add((lower_id, higher_id))\n",
    "\n",
    "augmented_negative_pairs = augmented_negative_pairs.difference(original_non_similar_pairs)\n",
    "augmented_negative_pairs = list(augmented_negative_pairs)"
   ],
   "metadata": {
    "collapsed": false,
    "ExecuteTime": {
     "end_time": "2023-05-27T18:15:12.026871760Z",
     "start_time": "2023-05-27T18:15:11.708075816Z"
    }
   }
  },
  {
   "cell_type": "code",
   "execution_count": 13,
   "outputs": [
    {
     "data": {
      "text/plain": "135194"
     },
     "execution_count": 13,
     "metadata": {},
     "output_type": "execute_result"
    }
   ],
   "source": [
    "len(augmented_negative_pairs)"
   ],
   "metadata": {
    "collapsed": false,
    "ExecuteTime": {
     "end_time": "2023-05-27T18:15:12.027158657Z",
     "start_time": "2023-05-27T18:15:12.022655885Z"
    }
   }
  },
  {
   "cell_type": "markdown",
   "source": [
    "# makni augmentacije koje su u test setu"
   ],
   "metadata": {
    "collapsed": false
   }
  },
  {
   "cell_type": "code",
   "execution_count": 14,
   "outputs": [],
   "source": [
    "augmented_positive_pairs[0] = list(set(augmented_positive_pairs[0]).difference(test_pairs))\n",
    "augmented_positive_pairs[1] = list(set(augmented_positive_pairs[1]).difference(test_pairs))\n",
    "augmented_positive_pairs[2] = list(set(augmented_positive_pairs[2]).difference(test_pairs))\n",
    "augmented_negative_pairs = list(set(augmented_negative_pairs).difference(test_pairs))"
   ],
   "metadata": {
    "collapsed": false,
    "ExecuteTime": {
     "end_time": "2023-05-27T18:15:12.073268355Z",
     "start_time": "2023-05-27T18:15:12.031490829Z"
    }
   }
  },
  {
   "cell_type": "code",
   "execution_count": 15,
   "outputs": [
    {
     "data": {
      "text/plain": "[50826, 18854, 6827]"
     },
     "execution_count": 15,
     "metadata": {},
     "output_type": "execute_result"
    }
   ],
   "source": [
    "[len(pairs) for pairs in augmented_positive_pairs]"
   ],
   "metadata": {
    "collapsed": false,
    "ExecuteTime": {
     "end_time": "2023-05-27T18:15:12.079081435Z",
     "start_time": "2023-05-27T18:15:12.075157427Z"
    }
   }
  },
  {
   "cell_type": "code",
   "execution_count": 16,
   "outputs": [
    {
     "data": {
      "text/plain": "135139"
     },
     "execution_count": 16,
     "metadata": {},
     "output_type": "execute_result"
    }
   ],
   "source": [
    "len(augmented_negative_pairs)"
   ],
   "metadata": {
    "collapsed": false,
    "ExecuteTime": {
     "end_time": "2023-05-27T18:15:12.118838982Z",
     "start_time": "2023-05-27T18:15:12.077182554Z"
    }
   }
  },
  {
   "cell_type": "markdown",
   "source": [
    "# create dataset for each experiment"
   ],
   "metadata": {
    "collapsed": false
   }
  },
  {
   "cell_type": "code",
   "execution_count": 20,
   "outputs": [],
   "source": [
    "def get_pairs(step, fraction_negative):\n",
    "    pairs = []\n",
    "    for _, (qid1, qid2, _, _, is_duplicate, _) in data_pairs.iterrows():\n",
    "        pairs.append([get_pair_index(qid1, qid2), is_duplicate])\n",
    "\n",
    "    positive_count = 0\n",
    "    for i in range(step):\n",
    "        for qid1, qid2 in augmented_positive_pairs[i]:\n",
    "            pairs.append([get_pair_index(qid1, qid2), 1])\n",
    "        positive_count += len(augmented_positive_pairs[i])\n",
    "\n",
    "    if fraction_negative == 0: return pairs\n",
    "\n",
    "    total_number_of_augmented = len(augmented_negative_pairs)\n",
    "    to_add_negative = int(fraction_negative * positive_count)\n",
    "    to_add_negative = min(to_add_negative, total_number_of_augmented)\n",
    "    random_permutation = np.random.permutation(augmented_negative_pairs)\n",
    "    for qid1, qid2 in random_permutation[:to_add_negative]:\n",
    "        pairs.append([get_pair_index(qid1, qid2), 0])\n",
    "\n",
    "    return pairs\n",
    "\n",
    "def get_dataset(step, fraction_negative):\n",
    "    pairs = get_pairs(step, fraction_negative)\n",
    "    return pd.DataFrame(pairs, columns=[\"pair_id\", \"is_duplicate\"])"
   ],
   "metadata": {
    "collapsed": false,
    "ExecuteTime": {
     "end_time": "2023-05-27T18:15:54.410519941Z",
     "start_time": "2023-05-27T18:15:54.391696284Z"
    }
   }
  },
  {
   "cell_type": "code",
   "execution_count": 21,
   "outputs": [],
   "source": [
    "step, fraction = 1, 0.0\n",
    "experiment_dataset = get_dataset(step, fraction)\n",
    "experiment_dataset.to_csv(f\"./data/experiments/instance_{step}_{fraction:.2f}.csv\", index=False)"
   ],
   "metadata": {
    "collapsed": false,
    "ExecuteTime": {
     "end_time": "2023-05-27T18:16:08.363605366Z",
     "start_time": "2023-05-27T18:15:55.529592076Z"
    }
   }
  },
  {
   "cell_type": "code",
   "execution_count": 22,
   "outputs": [],
   "source": [
    "step, fraction = 1, 1.0\n",
    "experiment_dataset = get_dataset(step, fraction)\n",
    "experiment_dataset.to_csv(f\"./data/experiments/instance_{step}_{fraction:.2f}.csv\", index=False)"
   ],
   "metadata": {
    "collapsed": false,
    "ExecuteTime": {
     "end_time": "2023-05-27T18:16:21.268351419Z",
     "start_time": "2023-05-27T18:16:08.370250658Z"
    }
   }
  },
  {
   "cell_type": "code",
   "execution_count": 23,
   "outputs": [],
   "source": [
    "step, fraction = 1, 2.0\n",
    "experiment_dataset = get_dataset(step, fraction)\n",
    "experiment_dataset.to_csv(f\"./data/experiments/instance_{step}_{fraction:.2f}.csv\", index=False)"
   ],
   "metadata": {
    "collapsed": false,
    "ExecuteTime": {
     "end_time": "2023-05-27T18:16:33.947638504Z",
     "start_time": "2023-05-27T18:16:21.271480459Z"
    }
   }
  },
  {
   "cell_type": "code",
   "execution_count": 24,
   "outputs": [],
   "source": [
    "step, fraction = 2, 0.0\n",
    "experiment_dataset = get_dataset(step, fraction)\n",
    "experiment_dataset.to_csv(f\"./data/experiments/instance_{step}_{fraction:.2f}.csv\", index=False)"
   ],
   "metadata": {
    "collapsed": false,
    "ExecuteTime": {
     "end_time": "2023-05-27T18:16:46.726676960Z",
     "start_time": "2023-05-27T18:16:33.990289155Z"
    }
   }
  },
  {
   "cell_type": "code",
   "execution_count": 25,
   "outputs": [],
   "source": [
    "step, fraction = 2, 1.0\n",
    "experiment_dataset = get_dataset(step, fraction)\n",
    "experiment_dataset.to_csv(f\"./data/experiments/instance_{step}_{fraction:.2f}.csv\", index=False)"
   ],
   "metadata": {
    "collapsed": false,
    "ExecuteTime": {
     "end_time": "2023-05-27T18:16:59.432571094Z",
     "start_time": "2023-05-27T18:16:46.728640709Z"
    }
   }
  },
  {
   "cell_type": "code",
   "execution_count": 26,
   "outputs": [],
   "source": [
    "step, fraction = 2, 2.0\n",
    "experiment_dataset = get_dataset(step, fraction)\n",
    "experiment_dataset.to_csv(f\"./data/experiments/instance_{step}_{fraction:.2f}.csv\", index=False)"
   ],
   "metadata": {
    "collapsed": false,
    "ExecuteTime": {
     "end_time": "2023-05-27T18:17:12.272483587Z",
     "start_time": "2023-05-27T18:16:59.474283883Z"
    }
   }
  },
  {
   "cell_type": "code",
   "execution_count": 27,
   "outputs": [],
   "source": [
    "step, fraction = 3, 0.0\n",
    "experiment_dataset = get_dataset(step, fraction)\n",
    "experiment_dataset.to_csv(f\"./data/experiments/instance_{step}_{fraction:.2f}.csv\", index=False)"
   ],
   "metadata": {
    "collapsed": false,
    "ExecuteTime": {
     "end_time": "2023-05-27T18:17:24.906896710Z",
     "start_time": "2023-05-27T18:17:12.274758025Z"
    }
   }
  },
  {
   "cell_type": "code",
   "execution_count": 28,
   "outputs": [],
   "source": [
    "step, fraction = 3, 1.0\n",
    "experiment_dataset = get_dataset(step, fraction)\n",
    "experiment_dataset.to_csv(f\"./data/experiments/instance_{step}_{fraction:.2f}.csv\", index=False)"
   ],
   "metadata": {
    "collapsed": false,
    "ExecuteTime": {
     "end_time": "2023-05-27T18:17:37.755944937Z",
     "start_time": "2023-05-27T18:17:24.946330705Z"
    }
   }
  },
  {
   "cell_type": "code",
   "execution_count": 29,
   "outputs": [],
   "source": [
    "step, fraction = 3, 2.0\n",
    "experiment_dataset = get_dataset(step, fraction)\n",
    "experiment_dataset.to_csv(f\"./data/experiments/instance_{step}_{fraction:.2f}.csv\", index=False)"
   ],
   "metadata": {
    "collapsed": false,
    "ExecuteTime": {
     "end_time": "2023-05-27T18:17:50.647673197Z",
     "start_time": "2023-05-27T18:17:37.757948632Z"
    }
   }
  },
  {
   "cell_type": "code",
   "execution_count": null,
   "outputs": [],
   "source": [],
   "metadata": {
    "collapsed": false,
    "ExecuteTime": {
     "start_time": "2023-05-27T18:15:36.526791496Z"
    }
   }
  }
 ],
 "metadata": {
  "kernelspec": {
   "display_name": "Python 3",
   "language": "python",
   "name": "python3"
  },
  "language_info": {
   "codemirror_mode": {
    "name": "ipython",
    "version": 2
   },
   "file_extension": ".py",
   "mimetype": "text/x-python",
   "name": "python",
   "nbconvert_exporter": "python",
   "pygments_lexer": "ipython2",
   "version": "2.7.6"
  }
 },
 "nbformat": 4,
 "nbformat_minor": 0
}

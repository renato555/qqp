{
 "cells": [
  {
   "cell_type": "code",
   "execution_count": 1,
   "metadata": {
    "collapsed": true,
    "ExecuteTime": {
     "end_time": "2023-06-03T09:09:47.973305969Z",
     "start_time": "2023-06-03T09:09:47.526370768Z"
    }
   },
   "outputs": [],
   "source": [
    "import pandas as pd\n",
    "import numpy as np\n",
    "import matplotlib.pyplot as plt\n",
    "from collections import defaultdict\n",
    "import sys\n",
    "import random\n",
    "from itertools import product"
   ]
  },
  {
   "cell_type": "markdown",
   "source": [
    "# load datasets"
   ],
   "metadata": {
    "collapsed": false
   }
  },
  {
   "cell_type": "code",
   "execution_count": 2,
   "outputs": [
    {
     "data": {
      "text/plain": "     qid1    qid2                                          question1  \\\n0    2395  138789  If the universe is \"expanding\", is my room exp...   \n1   19200    7446                      How can I slowly lose weight?   \n2  477381  477382  What are the best shoes to hardstyle shuffle? ...   \n3  325056  325057  What will be best place in Brisbane to hire ef...   \n4  259926  259927  When will Lenovo K3 Note get the Android 7 upg...   \n\n                                           question2  is_duplicate  pair_id  \n0  If the universe is expanding does it mean matt...             1    81779  \n1  What should you do if you want to lose a lot o...             1   266887  \n2         What are the best shoes for rock climbing?             0   348793  \n3  Where can I hire professional painting contrac...             1   218454  \n4  When will Lenovo K3 Note get the Android 6 upg...             0   167686  ",
      "text/html": "<div>\n<style scoped>\n    .dataframe tbody tr th:only-of-type {\n        vertical-align: middle;\n    }\n\n    .dataframe tbody tr th {\n        vertical-align: top;\n    }\n\n    .dataframe thead th {\n        text-align: right;\n    }\n</style>\n<table border=\"1\" class=\"dataframe\">\n  <thead>\n    <tr style=\"text-align: right;\">\n      <th></th>\n      <th>qid1</th>\n      <th>qid2</th>\n      <th>question1</th>\n      <th>question2</th>\n      <th>is_duplicate</th>\n      <th>pair_id</th>\n    </tr>\n  </thead>\n  <tbody>\n    <tr>\n      <th>0</th>\n      <td>2395</td>\n      <td>138789</td>\n      <td>If the universe is \"expanding\", is my room exp...</td>\n      <td>If the universe is expanding does it mean matt...</td>\n      <td>1</td>\n      <td>81779</td>\n    </tr>\n    <tr>\n      <th>1</th>\n      <td>19200</td>\n      <td>7446</td>\n      <td>How can I slowly lose weight?</td>\n      <td>What should you do if you want to lose a lot o...</td>\n      <td>1</td>\n      <td>266887</td>\n    </tr>\n    <tr>\n      <th>2</th>\n      <td>477381</td>\n      <td>477382</td>\n      <td>What are the best shoes to hardstyle shuffle? ...</td>\n      <td>What are the best shoes for rock climbing?</td>\n      <td>0</td>\n      <td>348793</td>\n    </tr>\n    <tr>\n      <th>3</th>\n      <td>325056</td>\n      <td>325057</td>\n      <td>What will be best place in Brisbane to hire ef...</td>\n      <td>Where can I hire professional painting contrac...</td>\n      <td>1</td>\n      <td>218454</td>\n    </tr>\n    <tr>\n      <th>4</th>\n      <td>259926</td>\n      <td>259927</td>\n      <td>When will Lenovo K3 Note get the Android 7 upg...</td>\n      <td>When will Lenovo K3 Note get the Android 6 upg...</td>\n      <td>0</td>\n      <td>167686</td>\n    </tr>\n  </tbody>\n</table>\n</div>"
     },
     "execution_count": 2,
     "metadata": {},
     "output_type": "execute_result"
    }
   ],
   "source": [
    "data_pairs = pd.read_csv(\"./data/train_split.csv\")\n",
    "data_pairs.head()"
   ],
   "metadata": {
    "collapsed": false,
    "ExecuteTime": {
     "end_time": "2023-06-03T09:09:48.593231866Z",
     "start_time": "2023-06-03T09:09:47.974728249Z"
    }
   }
  },
  {
   "cell_type": "code",
   "execution_count": 3,
   "outputs": [
    {
     "data": {
      "text/plain": "   qid1  qid2                                          question1  \\\n0     1     2  What is the step by step guide to invest in sh...   \n1     3     4  What is the story of Kohinoor (Koh-i-Noor) Dia...   \n2     5     6  How can I increase the speed of my internet co...   \n3     7     8  Why am I mentally very lonely? How can I solve...   \n4     9    10  Which one dissolve in water quikly sugar, salt...   \n\n                                           question2  is_duplicate  \n0  What is the step by step guide to invest in sh...             0  \n1  What would happen if the Indian government sto...             0  \n2  How can Internet speed be increased by hacking...             0  \n3  Find the remainder when [math]23^{24}[/math] i...             0  \n4            Which fish would survive in salt water?             0  ",
      "text/html": "<div>\n<style scoped>\n    .dataframe tbody tr th:only-of-type {\n        vertical-align: middle;\n    }\n\n    .dataframe tbody tr th {\n        vertical-align: top;\n    }\n\n    .dataframe thead th {\n        text-align: right;\n    }\n</style>\n<table border=\"1\" class=\"dataframe\">\n  <thead>\n    <tr style=\"text-align: right;\">\n      <th></th>\n      <th>qid1</th>\n      <th>qid2</th>\n      <th>question1</th>\n      <th>question2</th>\n      <th>is_duplicate</th>\n    </tr>\n  </thead>\n  <tbody>\n    <tr>\n      <th>0</th>\n      <td>1</td>\n      <td>2</td>\n      <td>What is the step by step guide to invest in sh...</td>\n      <td>What is the step by step guide to invest in sh...</td>\n      <td>0</td>\n    </tr>\n    <tr>\n      <th>1</th>\n      <td>3</td>\n      <td>4</td>\n      <td>What is the story of Kohinoor (Koh-i-Noor) Dia...</td>\n      <td>What would happen if the Indian government sto...</td>\n      <td>0</td>\n    </tr>\n    <tr>\n      <th>2</th>\n      <td>5</td>\n      <td>6</td>\n      <td>How can I increase the speed of my internet co...</td>\n      <td>How can Internet speed be increased by hacking...</td>\n      <td>0</td>\n    </tr>\n    <tr>\n      <th>3</th>\n      <td>7</td>\n      <td>8</td>\n      <td>Why am I mentally very lonely? How can I solve...</td>\n      <td>Find the remainder when [math]23^{24}[/math] i...</td>\n      <td>0</td>\n    </tr>\n    <tr>\n      <th>4</th>\n      <td>9</td>\n      <td>10</td>\n      <td>Which one dissolve in water quikly sugar, salt...</td>\n      <td>Which fish would survive in salt water?</td>\n      <td>0</td>\n    </tr>\n  </tbody>\n</table>\n</div>"
     },
     "execution_count": 3,
     "metadata": {},
     "output_type": "execute_result"
    }
   ],
   "source": [
    "all_data_pairs = pd.read_csv(\"./data/all_possible_pairs.csv\")\n",
    "all_data_pairs.head()"
   ],
   "metadata": {
    "collapsed": false,
    "ExecuteTime": {
     "end_time": "2023-06-03T09:09:49.474222714Z",
     "start_time": "2023-06-03T09:09:48.594042934Z"
    }
   }
  },
  {
   "cell_type": "code",
   "execution_count": 4,
   "outputs": [],
   "source": [
    "qids_to_index = dict()\n",
    "\n",
    "for index, (qid1, qid2, question1, question2, is_duplicate) in all_data_pairs.iterrows():\n",
    "    qids_to_index[(qid1, qid2)] = index\n",
    "\n",
    "def get_pair_index(qid1, qid2):\n",
    "    if (qid1, qid2) in qids_to_index:\n",
    "        return qids_to_index[(qid1, qid2)]\n",
    "    return qids_to_index[(qid2, qid1)]"
   ],
   "metadata": {
    "collapsed": false,
    "ExecuteTime": {
     "end_time": "2023-06-03T09:10:10.612301507Z",
     "start_time": "2023-06-03T09:09:49.476793513Z"
    }
   }
  },
  {
   "cell_type": "code",
   "execution_count": 5,
   "outputs": [],
   "source": [
    "valid_data_pairs = pd.read_csv(\"./data/valid_split.csv\")\n",
    "valid_pairs = set()\n",
    "for _, (qid1, qid2, _, _, is_duplicate, _) in valid_data_pairs.iterrows():\n",
    "    lower_id = min(qid1, qid2)\n",
    "    higher_id = max(qid1, qid2)\n",
    "    valid_pairs.add((lower_id, higher_id))"
   ],
   "metadata": {
    "collapsed": false,
    "ExecuteTime": {
     "end_time": "2023-06-03T09:10:11.614951627Z",
     "start_time": "2023-06-03T09:10:10.611033558Z"
    }
   }
  },
  {
   "cell_type": "code",
   "execution_count": 6,
   "outputs": [],
   "source": [
    "test_data_pairs = pd.read_csv(\"./data/test_split.csv\")\n",
    "test_pairs = set()\n",
    "for _, (qid1, qid2, _, _, is_duplicate, _) in test_data_pairs.iterrows():\n",
    "    lower_id = min(qid1, qid2)\n",
    "    higher_id = max(qid1, qid2)\n",
    "    test_pairs.add((lower_id, higher_id))"
   ],
   "metadata": {
    "collapsed": false,
    "ExecuteTime": {
     "end_time": "2023-06-03T09:10:12.626405981Z",
     "start_time": "2023-06-03T09:10:11.617732807Z"
    }
   }
  },
  {
   "cell_type": "code",
   "execution_count": 7,
   "outputs": [
    {
     "data": {
      "text/plain": "   qid                                           question\n0    1  What is the step by step guide to invest in sh...\n1    2  What is the step by step guide to invest in sh...\n2    3  What is the story of Kohinoor (Koh-i-Noor) Dia...\n3    4  What would happen if the Indian government sto...\n4    5  How can I increase the speed of my internet co...",
      "text/html": "<div>\n<style scoped>\n    .dataframe tbody tr th:only-of-type {\n        vertical-align: middle;\n    }\n\n    .dataframe tbody tr th {\n        vertical-align: top;\n    }\n\n    .dataframe thead th {\n        text-align: right;\n    }\n</style>\n<table border=\"1\" class=\"dataframe\">\n  <thead>\n    <tr style=\"text-align: right;\">\n      <th></th>\n      <th>qid</th>\n      <th>question</th>\n    </tr>\n  </thead>\n  <tbody>\n    <tr>\n      <th>0</th>\n      <td>1</td>\n      <td>What is the step by step guide to invest in sh...</td>\n    </tr>\n    <tr>\n      <th>1</th>\n      <td>2</td>\n      <td>What is the step by step guide to invest in sh...</td>\n    </tr>\n    <tr>\n      <th>2</th>\n      <td>3</td>\n      <td>What is the story of Kohinoor (Koh-i-Noor) Dia...</td>\n    </tr>\n    <tr>\n      <th>3</th>\n      <td>4</td>\n      <td>What would happen if the Indian government sto...</td>\n    </tr>\n    <tr>\n      <th>4</th>\n      <td>5</td>\n      <td>How can I increase the speed of my internet co...</td>\n    </tr>\n  </tbody>\n</table>\n</div>"
     },
     "execution_count": 7,
     "metadata": {},
     "output_type": "execute_result"
    }
   ],
   "source": [
    "data_questions = pd.read_csv(\"./data/data_questions.csv\")\n",
    "data_questions.head()"
   ],
   "metadata": {
    "collapsed": false,
    "ExecuteTime": {
     "end_time": "2023-06-03T09:10:13.041994671Z",
     "start_time": "2023-06-03T09:10:12.629013202Z"
    }
   }
  },
  {
   "cell_type": "markdown",
   "source": [
    "# create graphs"
   ],
   "metadata": {
    "collapsed": false
   }
  },
  {
   "cell_type": "code",
   "execution_count": 8,
   "outputs": [],
   "source": [
    "graph_similar = defaultdict(lambda: [])\n",
    "original_similar_pairs = set()\n",
    "for _, (qid1, qid2, _, _, is_duplicate, _) in data_pairs.iterrows():\n",
    "    if not is_duplicate: continue\n",
    "\n",
    "    graph_similar[qid1].append(qid2)\n",
    "    graph_similar[qid2].append(qid1)\n",
    "\n",
    "    lower_id = min(qid1, qid2)\n",
    "    higher_id = max(qid1, qid2)\n",
    "    original_similar_pairs.add((lower_id, higher_id))"
   ],
   "metadata": {
    "collapsed": false,
    "ExecuteTime": {
     "end_time": "2023-06-03T09:10:24.256384205Z",
     "start_time": "2023-06-03T09:10:13.044468096Z"
    }
   }
  },
  {
   "cell_type": "code",
   "execution_count": 9,
   "outputs": [],
   "source": [
    "graph_non_similar = defaultdict(lambda: [])\n",
    "original_non_similar_pairs = set()\n",
    "for _, (qid1, qid2, _, _, is_duplicate, _) in data_pairs.iterrows():\n",
    "    if is_duplicate: continue\n",
    "\n",
    "    graph_non_similar[qid1].append(qid2)\n",
    "    graph_non_similar[qid2].append(qid1)\n",
    "\n",
    "    lower_id = min(qid1, qid2)\n",
    "    higher_id = max(qid1, qid2)\n",
    "    original_non_similar_pairs.add((lower_id, higher_id))"
   ],
   "metadata": {
    "collapsed": false,
    "ExecuteTime": {
     "end_time": "2023-06-03T09:10:35.684435616Z",
     "start_time": "2023-06-03T09:10:24.298353222Z"
    }
   }
  },
  {
   "cell_type": "markdown",
   "source": [
    "# calculate components"
   ],
   "metadata": {
    "collapsed": false
   }
  },
  {
   "cell_type": "code",
   "execution_count": 10,
   "outputs": [],
   "source": [
    "labels = defaultdict(lambda : 0)\n",
    "components = defaultdict(lambda: [])\n",
    "\n",
    "def visit(node, level):\n",
    "    stack = [node]\n",
    "    while len(stack) > 0:\n",
    "        v = stack.pop()\n",
    "        if labels[v] != 0: continue\n",
    "        labels[v] = level\n",
    "        components[level].append(v)\n",
    "        stack += graph_similar[v]\n",
    "\n",
    "level = 0\n",
    "for node in graph_similar:\n",
    "    if labels[node] == 0:\n",
    "        level += 1\n",
    "        visit(node, level)"
   ],
   "metadata": {
    "collapsed": false,
    "ExecuteTime": {
     "end_time": "2023-06-03T09:10:35.826651806Z",
     "start_time": "2023-06-03T09:10:35.716588122Z"
    }
   }
  },
  {
   "cell_type": "markdown",
   "source": [
    "# pozitivne augmentacije"
   ],
   "metadata": {
    "collapsed": false
   }
  },
  {
   "cell_type": "code",
   "execution_count": 11,
   "outputs": [],
   "source": [
    "transitive_positive_neighbours = defaultdict(lambda : 200)\n",
    "\n",
    "def find_positive_transitive_neighbours(node):\n",
    "    depth = 1\n",
    "    visited = {node}\n",
    "    queue = [node]\n",
    "    while len(queue):\n",
    "        next_neighbours = [u for v in queue for u in graph_similar[v] if u not in visited]\n",
    "        for neighbour in next_neighbours:\n",
    "            visited.add(neighbour)\n",
    "            lower_id, higher_id = min(node, neighbour), max(node, neighbour)\n",
    "            transitive_positive_neighbours[(lower_id, higher_id)] = depth\n",
    "\n",
    "        depth += 1\n",
    "        queue = list(set(next_neighbours))\n",
    "\n",
    "for node in graph_similar:\n",
    "    find_positive_transitive_neighbours(node)"
   ],
   "metadata": {
    "collapsed": false,
    "ExecuteTime": {
     "end_time": "2023-06-03T09:10:36.660703076Z",
     "start_time": "2023-06-03T09:10:35.848012624Z"
    }
   }
  },
  {
   "cell_type": "code",
   "execution_count": 12,
   "outputs": [],
   "source": [
    "augmented_positive_pairs = [[], [], []]\n",
    "\n",
    "for pair, depth in transitive_positive_neighbours.items():\n",
    "    if depth == 1: continue\n",
    "    depth = min(depth, 4)\n",
    "    augmented_positive_pairs[depth - 2].append(pair)"
   ],
   "metadata": {
    "collapsed": false,
    "ExecuteTime": {
     "end_time": "2023-06-03T09:10:36.694394455Z",
     "start_time": "2023-06-03T09:10:36.682556573Z"
    }
   }
  },
  {
   "cell_type": "code",
   "execution_count": 13,
   "outputs": [
    {
     "data": {
      "text/plain": "[60941, 19303, 6657]"
     },
     "execution_count": 13,
     "metadata": {},
     "output_type": "execute_result"
    }
   ],
   "source": [
    "[len(pairs) for pairs in augmented_positive_pairs]"
   ],
   "metadata": {
    "collapsed": false,
    "ExecuteTime": {
     "end_time": "2023-06-03T09:10:36.699387293Z",
     "start_time": "2023-06-03T09:10:36.696447905Z"
    }
   }
  },
  {
   "cell_type": "markdown",
   "source": [
    "# negativne augmentacije"
   ],
   "metadata": {
    "collapsed": false
   }
  },
  {
   "cell_type": "code",
   "execution_count": 14,
   "outputs": [],
   "source": [
    "augmented_negative_pairs = set()\n",
    "\n",
    "for qid1, qid2 in original_non_similar_pairs:\n",
    "    k1 = labels[qid1]\n",
    "    k2 = labels[qid2]\n",
    "    if k1 == k2: continue\n",
    "\n",
    "    k1_components = components[k1]\n",
    "    k2_components = components[k2]\n",
    "    for qid1_new, qid2_new in product(k1_components, k2_components):\n",
    "        lower_id = min(qid1_new, qid2_new)\n",
    "        higher_id = max(qid1_new, qid2_new)\n",
    "        augmented_negative_pairs.add((lower_id, higher_id))\n",
    "\n",
    "augmented_negative_pairs = augmented_negative_pairs.difference(original_non_similar_pairs)\n",
    "augmented_negative_pairs = list(augmented_negative_pairs)"
   ],
   "metadata": {
    "collapsed": false,
    "ExecuteTime": {
     "end_time": "2023-06-03T09:10:37.001386392Z",
     "start_time": "2023-06-03T09:10:36.710253320Z"
    }
   }
  },
  {
   "cell_type": "code",
   "execution_count": 15,
   "outputs": [
    {
     "data": {
      "text/plain": "121263"
     },
     "execution_count": 15,
     "metadata": {},
     "output_type": "execute_result"
    }
   ],
   "source": [
    "len(augmented_negative_pairs)"
   ],
   "metadata": {
    "collapsed": false,
    "ExecuteTime": {
     "end_time": "2023-06-03T09:10:37.008137843Z",
     "start_time": "2023-06-03T09:10:37.004732952Z"
    }
   }
  },
  {
   "cell_type": "markdown",
   "source": [
    "# makni augmentacije koje su u testi valid setu"
   ],
   "metadata": {
    "collapsed": false
   }
  },
  {
   "cell_type": "code",
   "execution_count": 16,
   "outputs": [
    {
     "name": "stdout",
     "output_type": "stream",
     "text": [
      "[54643, 19149, 6639]\n",
      "121211\n"
     ]
    }
   ],
   "source": [
    "augmented_positive_pairs[0] = list(set(augmented_positive_pairs[0]).difference(test_pairs))\n",
    "augmented_positive_pairs[1] = list(set(augmented_positive_pairs[1]).difference(test_pairs))\n",
    "augmented_positive_pairs[2] = list(set(augmented_positive_pairs[2]).difference(test_pairs))\n",
    "augmented_negative_pairs = list(set(augmented_negative_pairs).difference(test_pairs))\n",
    "\n",
    "print([len(pairs) for pairs in augmented_positive_pairs])\n",
    "print(len(augmented_negative_pairs))"
   ],
   "metadata": {
    "collapsed": false,
    "ExecuteTime": {
     "end_time": "2023-06-03T09:10:37.054008718Z",
     "start_time": "2023-06-03T09:10:37.050773065Z"
    }
   }
  },
  {
   "cell_type": "code",
   "execution_count": 17,
   "outputs": [
    {
     "name": "stdout",
     "output_type": "stream",
     "text": [
      "[48418, 18990, 6621]\n",
      "121166\n"
     ]
    }
   ],
   "source": [
    "augmented_positive_pairs[0] = list(set(augmented_positive_pairs[0]).difference(valid_pairs))\n",
    "augmented_positive_pairs[1] = list(set(augmented_positive_pairs[1]).difference(valid_pairs))\n",
    "augmented_positive_pairs[2] = list(set(augmented_positive_pairs[2]).difference(valid_pairs))\n",
    "augmented_negative_pairs = list(set(augmented_negative_pairs).difference(valid_pairs))\n",
    "\n",
    "print([len(pairs) for pairs in augmented_positive_pairs])\n",
    "print(len(augmented_negative_pairs))"
   ],
   "metadata": {
    "collapsed": false,
    "ExecuteTime": {
     "end_time": "2023-06-03T09:10:37.099774542Z",
     "start_time": "2023-06-03T09:10:37.052637120Z"
    }
   }
  },
  {
   "cell_type": "markdown",
   "source": [
    "# primjeri augmentacija"
   ],
   "metadata": {
    "collapsed": false
   }
  },
  {
   "cell_type": "markdown",
   "source": [
    "pozitivni parovi"
   ],
   "metadata": {
    "collapsed": false
   }
  },
  {
   "cell_type": "code",
   "execution_count": 18,
   "outputs": [
    {
     "name": "stdout",
     "output_type": "stream",
     "text": [
      "How do we know if the surgical strikes by India in POK are real and not a misinformation?\n",
      "Was surgical strike really happened in POK on morning of 29th September?\n",
      "\n",
      "What are some great beginner ways to learn JavaScript?\n",
      "What are the online resources for learning javascript?\n",
      "\n",
      "What are some important things about finance everyone should know?\n",
      "What should one know about spending money?\n",
      "\n",
      "Why can't India ban the import of Chinese products in India?\n",
      "Will China be hurt if India bans imports from it?\n",
      "\n",
      "What are ways I can increase my height (I'm a ftm Asian)?\n",
      "What are the ways to gain height?\n",
      "\n",
      "What is the difference between front end and back end website development?\n",
      "What is the difference between a front-end developer and back-end developer?\n",
      "\n",
      "Will Trump's win affect the matriculation of students who wish to be graduate from USA?\n",
      "How will Donald J Trump's presidency affect the opportunities offered to non US students?\n",
      "\n",
      "How do I recover password for Gmail password without security questions?\n",
      "I made a Gmail account on an Android phone but I forgot the password. What should I do to recover my password?\n",
      "\n",
      "Why is the government abruptly banning the 500 Rupees and the 1000 rupees currency notes in India?\n",
      "What does Balaji Vishwanathan think about currency announcement made by Modi?\n",
      "\n",
      "What is the best way to increase traffic for a new blog?\n",
      "How do I attract more visitors to my blog?\n",
      "\n",
      "How do I know how many people saw my profile picture in WhatsApp?\n",
      "If someone's not in my WhatsApp contact and he used to check my profile every time, will I know about it?\n",
      "\n",
      "What is the best way to improve my spoken English soon?\n",
      "How can I improve fluency in English?\n",
      "\n",
      "How do I stop masturbation and forget women?\n",
      "What is the easiest way to stop masturbation?\n",
      "\n",
      "How do I hack any security wifi password?\n",
      "What is the best way of hacking a wi-fi?\n",
      "\n",
      "How can I lose weight effectively?\n",
      "How can I lose an extreme amount of weight?\n",
      "\n",
      "What are the best ways to lose weight fast?\n",
      "What is the fastest way to lose fat and keep it off?\n",
      "\n",
      "How should I start preparing for the IAS exam? I am currently studying engineering first year. What are the various books or materials I need to use?\n",
      "How we start preparation for IAS?\n",
      "\n",
      "Can I get pregnant a couple hours before I got my period?\n",
      "How many days before my period can I get pregnant?\n",
      "\n",
      "How do I play guitar musically?\n",
      "How do you start learning guitar?\n",
      "\n",
      "What kind of programming language should I learn if I want to debug a game-making website like Zondle.com?\n",
      "What should be the first programming language learned to develop games?\n",
      "\n",
      "Will Narendra Modi become the PM in 2019?\n",
      "Is there still hope in Narendra Modi's becoming the Prime Minister in the 2019 elections?\n",
      "\n",
      "Can a boy join the Indian armed forces after a BSc degree?\n",
      "I am a software engineer. How can join defence forces?\n",
      "\n",
      "Would you ever let Donald Trump date your daughter?\n",
      "Would you let your 10 year old daughter be near Donald Trump?\n",
      "\n",
      "How can I last for a longer time during sex?\n",
      "Is there anything I could do to last longer in bed? (More than 3-5 minutes)?\n",
      "\n",
      "How can I earn from online?\n",
      "What is the easy way to make money online?\n",
      "\n",
      "Why don't athiests believe in God?\n",
      "Why do some people have the ability to believe in God but others don’t?\n",
      "\n",
      "How will the new currency notes of denomination 500 and 2000 curb black money?\n",
      "How does the latest decision of abolishing 500 and 1000 rupee notes help the Government curb corruption?\n",
      "\n",
      "What is the purpose of life? Why are we here? We spend our life earning money. Is that really what we want?\n",
      "How do I overcome anxiety and find purpose in life?\n",
      "\n",
      "What is your view on the move to scrap 500 and 1000 rupee notes? What will be its effects?\n",
      "What do you think is the reason for PM Modi’s instant decision to ban ₹500 and ₹1000 notes?\n",
      "\n",
      "Why is the chance to survive a shot between eyes with a 300grain HP .50AE Desert Eagle almost nonexistent?\n",
      "If someone shoot me from 13 feet away with 300grain hollowpoint hornady xtp 1475fps at the muzzle 1 bullet between my eyes with a. 50AE Desert eagle how much % survival chances do i have? See answer from a doctor her under by comment!\n",
      "\n",
      "What are the best horror movies?\n",
      "What are the 10 greatest horror movies of all time?\n",
      "\n",
      "What are the best books on algorithms for a beginner?\n",
      "Which book is the best book for algorithm and datastructure?\n",
      "\n",
      "What do you think of Prime Minister Narendra Modi's decision to introduce new INR 500 and INR 2000 currency notes?\n",
      "What do you think about the idea of Narendra Modi about 500&1000 notes?\n",
      "\n",
      "Which Laptop to buy under or upto Rs.25000?\n",
      "Which are the best laptops under INR 25000 in Indian market?\n",
      "\n",
      "Who is winning Clinton or trump?\n",
      "Who will be win in USA: hillary or trump?\n",
      "\n",
      "What is the best and fastest way to increase your height?\n",
      "How would I increase my height aftr 18?\n",
      "\n",
      "What was the universe before Big Bang?\n",
      "What was there before the 'Big Bang'?\n",
      "\n",
      "I'm overweight. How can I begin to lose weight?\n",
      "How do lose weight with healthy way?\n",
      "\n",
      "Why is sugar bad for us?\n",
      "If our bodies run on sugar, and things like carbs just get converted to sugars, why is sugar bad for you?\n",
      "\n",
      "How do I lose 30 pounds?\n",
      "How do I lose fats and excessive weight from body?\n",
      "\n",
      "How do I develop good sense of humor?\n",
      "How do I improve sense of humour?\n",
      "\n",
      "Where can I meet British people in the Great Toronto Area?\n",
      "Where can I meet Brits in Toronto?\n",
      "\n",
      "What are the chances of getting pregnant 3 days after the period is over?\n",
      "Can you still get pregnant one day before menstruation?\n",
      "\n",
      "What should I do to improve my spoken English?\n",
      "How can I improve my English in a very short time?\n",
      "\n",
      "What is your favourite anime show and why?\n",
      "What is/are your favorite anime(s)? Why?\n",
      "\n",
      "Which are the best ways to lose weight?\n",
      "What will make me lose the most fat?\n",
      "\n",
      "How do i lose weight?\n",
      "How do I lose 15 kilograms in a period of 3 months?\n",
      "\n",
      "Is it possible to convert sea water to fresh water and solve the entire water scarcity in Cauvery delta in Tamil Nadu?\n",
      "Could desalination be a solution to the Cauvery (Kaveri) issue?\n",
      "\n",
      "What actually is a stock market?\n",
      "What is sensex, stock market actually?\n",
      "\n",
      "What is the meaning of life? Whats our purpose on Earth?\n",
      "What is the purpose for human living in the world?\n",
      "\n"
     ]
    }
   ],
   "source": [
    "for i in range(50):\n",
    "    qid1, qid2 = augmented_positive_pairs[0][i * 10]\n",
    "    first_question = data_questions.iloc[qid1 - 1].question\n",
    "    second_question = data_questions.iloc[qid2 - 1].question\n",
    "    print(first_question)\n",
    "    print(second_question)\n",
    "    print()"
   ],
   "metadata": {
    "collapsed": false,
    "ExecuteTime": {
     "end_time": "2023-06-03T09:10:37.143889815Z",
     "start_time": "2023-06-03T09:10:37.101623808Z"
    }
   }
  },
  {
   "cell_type": "code",
   "execution_count": 19,
   "outputs": [
    {
     "name": "stdout",
     "output_type": "stream",
     "text": [
      "How do I get over the trauma of a breakup?\n",
      "How do I move on after a very bad breakup?\n",
      "\n",
      "What do you think of the decision by the Indian government to demonetize 500 and 1000 rupee notes?\n",
      "Do you think scraping Rs. 500 and Rs. 100 notes marks the beginning of curbing of the black money laundering in India?\n",
      "\n",
      "How do I study well without getting distracted?\n",
      "What are some ways to keep yourself from getting distracted while working or studying?\n",
      "\n",
      "Will Donald Trump or Hillary Clinton win the 2016 US presidential election?\n",
      "Who will be the next POTUS - Hillary or Donald?\n",
      "\n",
      "If a question doesn't need improvement, why does Quora mess with your questions?\n",
      "Why is my question marked as needing improvement when it is perfectly clear and well written?\n",
      "\n",
      "What’s the easiest most painless way to die?\n",
      "How can I commit suicide without any pain?\n",
      "\n",
      "Instagram (product): How can I know who visits my Instagram profile?\n",
      "How can I see who my boyfriend views on instagram?\n",
      "\n",
      "Can we be immortal?\n",
      "Do you think mankind will ever achieve immortality?\n",
      "\n",
      "Does ghost really exist?\n",
      "Is there ghosts in real life? If yes then share your experience\n",
      "\n",
      "Why is India so bad at Olympics and football?\n",
      "Why do Indians get less medals in Olympics?\n",
      "\n",
      "What would a Trump presidency mean for current international master’s students on an F1 visa?\n",
      "What would be the effect of Trump's presidency on international Master's students who plan to work in the US after completing the degree?\n",
      "\n",
      "How do you control your anger?\n",
      "How does one deal with anger issues?\n",
      "\n",
      "What are your views on demonetization of ₹500 & ₹1000 notes in India?\n",
      "Why does 500 and 1000 Rs notes banned by GOI and new notes of 500 and 2000 are issued?\n",
      "\n",
      "Why wont anyone answer my questions?\n",
      "How come nobody is answering my questions in Quora?\n",
      "\n",
      "What is the most stupid question asked on Quora?\n",
      "What type of questions on Quora you find annoying?\n",
      "\n",
      "If a genie grants you three wishes, what do you intend to wish for?\n",
      "Can you tell me any of your 3 wishes?\n",
      "\n",
      "What is best strategy for study?\n",
      "What is the most time efficient and effective way to study?\n",
      "\n",
      "Why are some questions marked as \"needing improvement\" when clearly they do not need improving?\n",
      "What should I do if Quora marks my question as \"Needs Improvement\"?\n",
      "\n",
      "How can I stop being lazy and useless?\n",
      "How can I overcome the procrastination problem?\n",
      "\n",
      "How did we get a picture of the Milky Way Galaxy?\n",
      "How are pictures of our own Galaxy taken from the inside?\n",
      "\n",
      "How can I lose post marriage weight?\n",
      "What is the most effective everlasting method of losing weight?\n",
      "\n",
      "How can I speaking fluently speaking English?\n",
      "How can I increase my English fluency?\n",
      "\n",
      "Should I consider NOT pursuing masters (MS) in US if Donald Trump becomes the President?\n",
      "How bad can Trump's election as president be for students aspiring to study in US?\n",
      "\n",
      "How does invalidating ₹500 and ₹1000 notes help us fight corruption and bring back black money?\n",
      "So how does banning 500, 1000 rs and introducing 2000 rs will curb corruption?\n",
      "\n",
      "How will releasing new 500 and 2000 rupee notes help in eradicating black money?\n",
      "What is the necessity of introducing 2000 rupee notes?\n",
      "\n",
      "Water has no smell, so why can we always anticipate rain from the smell?\n",
      "Why is the smell of rains so beautiful?\n",
      "\n",
      "What is the best way to commit suicide in India?\n",
      "How should I kill myself?\n",
      "\n",
      "What can one do to be certain that they are not living in the matrix?\n",
      "How do we know that we're not living in a computer simulation?\n",
      "\n",
      "Who will win in America presidential elections in 2016?\n",
      "Who should be the next President of The United States?\n",
      "\n",
      "India: Will Boycotting Chinese product impact their Economy without affecting ours?\n",
      "How much loss would Chinese companies incur if Indians stop using Chinese products?\n",
      "\n",
      "In ₹2000 note GPS nano chip is there or not?\n",
      "Do the new ₹2000 notes really have GPS chips or something similar?\n",
      "\n",
      "Can humans ever attain biological immortality? If so, when?\n",
      "When will humans become immortal?\n",
      "\n",
      "Who will be the new president of USA?\n",
      "How's the outlook for Donald Trump looking at becoming our next president?\n",
      "\n",
      "Do donald trump or hilary Clinton would win?\n",
      "Who will win the US election in 2016?\n",
      "\n",
      "Why do some people ask questions on Quora that could be asked directly to a search engine ?\n",
      "Why use Quora when Google answers almost everything?\n",
      "\n",
      "How can you lose weight fast in a healthy way?\n",
      "What is the safe and successful weight loss program?\n",
      "\n",
      "How can I speak English more fluently?\n",
      "How can we improve our English language skills?\n",
      "\n",
      "Is there any proof for the existence of aliens? What about all the stories we heard about them?\n",
      "If aliens do exist, what proof will we believe?\n",
      "\n",
      "What is your favourite novel? And why? Hope you can answer.\n",
      "Who's your favorite writer and what book of theirs would you recommend for reading?\n",
      "\n",
      "Why did not government changed 1000 rupees note instead of 2000 rupees note?\n",
      "Is required 2000 Rs notes?\n",
      "\n",
      "Where can I get an exceptionally affordable price in Sydney for property transaction?\n",
      "Where can I get experts help clients across Sydney for buy, sell or lease property?\n",
      "\n",
      "What are you views, pros, cons on ban of 500 and 1000 notes by goverment?\n",
      "What do you think about the BJP government not making the black money list public?\n",
      "\n",
      "How should I ask a question on Quora and how do I get the answer?\n",
      "How can I ask questions over here?\n",
      "\n",
      "How do I lose 38 pounds in a year?\n",
      "What are the best simple ways to loose weight?\n",
      "\n",
      "How can I know if aliens exist?\n",
      "Is there any physical proof of aliens on earth?\n",
      "\n",
      "How can I overcome masturbation and/or porn addiction?\n",
      "How do I removed my addiction for masturbating?\n",
      "\n",
      "How is Trump becoming the president affect the Indians applying for an MS in the US (Mech)?\n",
      "Will Donald Trump’s win in the elections have an impact on Indian students applying for a higher education in the US?\n",
      "\n",
      "Can I get pregnant a week after my cycle?\n",
      "Which time of the month can a girl get pregnant?\n",
      "\n",
      "What would be the effect of Trump's presidency on international Master's students who plan to work in the US after completing the degree?\n",
      "What is it going to be for Muslims students who intends to study in the US under Trump’s presidency?\n",
      "\n",
      "How can I lose 10 Kilos?\n",
      "Can you give me some advice on losing weight?\n",
      "\n"
     ]
    }
   ],
   "source": [
    "for i in range(50):\n",
    "    qid1, qid2 = augmented_positive_pairs[1][i * 10]\n",
    "    first_question = data_questions.iloc[qid1 - 1].question\n",
    "    second_question = data_questions.iloc[qid2 - 1].question\n",
    "    print(first_question)\n",
    "    print(second_question)\n",
    "    print()"
   ],
   "metadata": {
    "collapsed": false,
    "ExecuteTime": {
     "end_time": "2023-06-03T09:10:37.144239385Z",
     "start_time": "2023-06-03T09:10:37.143741208Z"
    }
   }
  },
  {
   "cell_type": "code",
   "execution_count": 20,
   "outputs": [
    {
     "name": "stdout",
     "output_type": "stream",
     "text": [
      "Which movies should you watch right now?\n",
      "Which is the one movie you will recommend me to watch and why?\n",
      "\n",
      "What is your view on the recent demonetisation of higher value currencies in India?\n",
      "Is the decision to abandon Rs. 500 and Rs. 1000 denominations notes by PM Modi justified? Will it help in any way to curb the Black Money?\n",
      "\n",
      "What are some extremely early signs of pregnancy?\n",
      "What are the definite pregnancy symptoms?\n",
      "\n",
      "Why do Indians get less medals in Olympics?\n",
      "What are the reasons for India's poor performance at Olympics considering that India's population is only second to China?\n",
      "\n",
      "How do prepare for IAS for a fresher?\n",
      "What is a study plan for taking UPSC exams for IAS/IFS/IRS/IPS this year?\n",
      "\n",
      "Can you make your penis larger at the age of 27?\n",
      "How can I enlarge my penis?\n",
      "\n",
      "How does it feel when a penis enters a vagina, from either partner's point of view?\n",
      "What does sex feel like for women and men?\n",
      "\n",
      "What is your view on the recent demonetisation of higher value currencies in India?\n",
      "What are your views about governments decision to stop flow of 1000 and 500 rupee notes.?\n",
      "\n",
      "Which books should I use to study for the IAS?\n",
      "I am starting preparation for IAS UPSC Exam . Which book should I buy for CSAT preparation 2016 exam?\n",
      "\n",
      "What do you think about Narendra Modi's decision about banning 500Rs & 1000Rs notes? And what will be the effects, Do this make corruption free India?\n",
      "What are your views on Modi's demonetization move?\n",
      "\n",
      "How can I lose 12-15 pounds in 3 months?\n",
      "How should I get rid of extra fat?\n",
      "\n",
      "What should I do to stay motivated and happy?\n",
      "Self-Improvement: How can I motivate myself to work hard?\n",
      "\n",
      "If Clinton loses, what kind of candidate can we expect from the Democratic Party in 2020?\n",
      "Who do you think is the Democrat most likely to win a Presidential election in 2020 or 2024?\n",
      "\n",
      "What are the risks of taking laxatives for weight loss?\n",
      "What are the best laxatives to lose weight?\n",
      "\n",
      "What is your view on the recent demonetisation of higher value currencies in India?\n",
      "How is the decision made by Indian Govt to demonetize ₹500 and ₹1000 is useful?\n",
      "\n",
      "Should IAS preparation start after graduation?\n",
      "How can I crack the ias in fresher?\n",
      "\n",
      "I am using Quora app. I need to answer the question as anonymous. How to do it?\n",
      "Can I make my answers anonymous on Quora?\n",
      "\n",
      "Can I track a person and his mobile online?\n",
      "Is there any app by which I can trace the exact location of a person by putting their phone number only?\n",
      "\n",
      "How many cups of coffee is a standard amount? I use to take a cup pre-workout once a day and 2-3 cups of coffee after that?\n",
      "Is coffee healthy? How much should one drink a day (it seems as if information regarding the health benefits of coffee change a lot over time)?\n",
      "\n",
      "What are the best ways to lose weight, especially around your core?\n",
      "I am a 13 year old girl, and I am overweight. I am 5 feet 5 inches tall, and weigh 120 pounds. How do I lose weight?\n",
      "\n",
      "Is World War Three really going to happen soon? I have been stressing about it for over a week and I am really scared.\n",
      "Will WW3 happen at some point in 2017?\n",
      "\n",
      "What is the most effective everlasting method of losing weight?\n",
      "How do I lose 15 kilograms in a period of 3 months?\n",
      "\n",
      "What is a weight loss strategy that works?\n",
      "How do I burn fat?\n",
      "\n",
      "Which exercise type help you to increase your height?\n",
      "I'm 16 and 5'2.5. How can I ACTIVELY grow taller?\n",
      "\n",
      "How is demonetization affecting people of India?\n",
      "Can demonetization help India or not?\n",
      "\n",
      "How do I stay motivated?\n",
      "How do you motivate yourself to work hard?\n",
      "\n",
      "How can I become tall?\n",
      "Is there any way that trough which my height will increase?\n",
      "\n",
      "Is nitrogen good for tires?\n",
      "Can we fill nitrogen in our normal car tyres?\n",
      "\n",
      "What are some of the best WhatsApp jokes?\n",
      "What are some funny WhatsApp forward messages?\n",
      "\n",
      "How can I lose weight effectively?\n",
      "How do I stop being fat?\n",
      "\n",
      "What is the best way to prepare for civil service examination?\n",
      "How do I crack ias in first attempt?\n",
      "\n",
      "Why does India perform poorly in the Olympics and other international sports events?\n",
      "Why does India fail to make a mark in the Olympic games?\n",
      "\n",
      "Who will win the Election? Trump or Clinton?\n",
      "Who's going to be the president of the United States?\n",
      "\n",
      "What do you think about Modi government banning 500 & 1000 currency note from 9th November?\n",
      "What is your view on the recent demonetisation of higher value currencies in India?\n",
      "\n",
      "Why the hell does Quora mark all my questions as needed improvement?\n",
      "How do I get rid of the needing improvement notification?\n",
      "\n",
      "Why does no body answer my question in Quora?\n",
      "Why are my questions on Quora never answered?\n",
      "\n",
      "How do I know am not been cheated on by my partner in a relationship?\n",
      "How can I get evidence of a cheating spouse?\n",
      "\n",
      "What do you think of the decision by the Indian Government to replace 1000 notes with 2000 notes?\n",
      "Taking the nation by surprise, the Govt of India has put a ban on all ₹500 & ₹1000 notes from this midnight. What's your opinion?\n",
      "\n",
      "I am 19 years old girl and my height is 5'3. How can I increase my height?\n",
      "How do I grow taller? Some tips?\n",
      "\n",
      "I wanna start preparing for ias exam, how should I proceed?\n",
      "How should I prepare for IAS now?\n",
      "\n",
      "If a question doesn't need improvement, why does Quora mess with your questions?\n",
      "How do I get rid of the needing improvement notification?\n",
      "\n",
      "I am a 13 year old girl, and I am overweight. I am 5 feet 5 inches tall, and weigh 120 pounds. How do I lose weight?\n",
      "What is the most successful way of loosing weight, lasting forever?\n",
      "\n",
      "How should I start preparing for the IAS exam? I am currently studying engineering first year. What are the various books or materials I need to use?\n",
      "How do I prepare for upsc prelim?\n",
      "\n",
      "Who is most likely to be President of the United States on January 20th, 2017?\n",
      "Who will win the US elections 2016?\n",
      "\n",
      "If this question needs improvement then how can it be improved?\n",
      "What is the best way to improve my questions on Quora?\n",
      "\n",
      "What do you think about banning ₹500 and ₹1000 notes?\n",
      "What is your view on demonetisation?\n",
      "\n",
      "Who do you think will win the 2016 Presidential Election?\n",
      "Who will be the next POTUS - Hillary or Donald?\n",
      "\n",
      "Will WW3 happen at some point in 2017?\n",
      "Are we moving towards WWIII?\n",
      "\n",
      "How do I erase my profile on Quora?\n",
      "I want to unsubscribe from Quora. How can I?\n",
      "\n",
      "How can I grow a bigger dick?\n",
      "How can you increase girth and length?\n",
      "\n"
     ]
    }
   ],
   "source": [
    "positive_examples_list_3_step = list(augmented_positive_pairs[2])\n",
    "for i in range(50):\n",
    "    qid1, qid2 = augmented_positive_pairs[2][i * 10]\n",
    "    first_question = data_questions.iloc[qid1 - 1].question\n",
    "    second_question = data_questions.iloc[qid2 - 1].question\n",
    "    print(first_question)\n",
    "    print(second_question)\n",
    "    print()"
   ],
   "metadata": {
    "collapsed": false,
    "ExecuteTime": {
     "end_time": "2023-06-03T09:10:37.144504695Z",
     "start_time": "2023-06-03T09:10:37.144046619Z"
    }
   }
  },
  {
   "cell_type": "markdown",
   "source": [
    "negativni parovi"
   ],
   "metadata": {
    "collapsed": false
   }
  },
  {
   "cell_type": "code",
   "execution_count": 21,
   "outputs": [
    {
     "name": "stdout",
     "output_type": "stream",
     "text": [
      "How can I improve my English vocabulary and writing skills?\n",
      "What books do you suggest would help improve English writing skills?\n",
      "\n",
      "What makes a girl love a boy?\n",
      "How do I get a girlfriend?\n",
      "\n",
      "Why Narendra Modi banned 500 and 1000 notes in India?\n",
      "India's Prime Minister removed 500 and 1000 rupee notes from circulation. Is this a good way to curb the spread of black money?\n",
      "\n",
      "How can someone lose weight quickly?\n",
      "How do I lose 15 kilograms in a period of 3 months?\n",
      "\n",
      "How can I be a better person and improve my questions on Quora?\n",
      "My every question is marked as \"needing improvements\". How do I resolve this and get proper answers?\n",
      "\n",
      "What is a good way to get over depression?\n",
      "What should I do if I am getting depressed?\n",
      "\n",
      "How can I lose my weight from 55 kg to 50 kg within two month?\n",
      "What are some healthy weight gaining diet plans?\n",
      "\n",
      "What are the repercussions of 500 and 1000 rupee notes not being legal tender anymore?\n",
      "What will be the effect of the ban of 500 and 1000 rupee notes be on the stock market?\n",
      "\n",
      "Will I be taller even after 21?\n",
      "Is it possible to increase your height after 19?\n",
      "\n",
      "What are some mind-blowing technology tools that most people don't know about?\n",
      "What are some mind-blowing inventions tools that most people don't know about?\n",
      "\n",
      "What are the functions of the cell membrane?\n",
      "What is the function of proteins in a cell membrane?\n",
      "\n",
      "What will most likely cause World War III?\n",
      "Is WW3 coming?\n",
      "\n",
      "How do you earn money from internet?\n",
      "What are the best ways to earn money online without investment?\n",
      "\n",
      "What mind blowing technologies exist in 2016 that most people don't know about?\n",
      "What are some mind-blowing Hologram gadgets that exist that most people don't know about?\n",
      "\n",
      "How to get exess fat off your hips?\n",
      "How do I stop being fat?\n",
      "\n",
      "Which country is most likely to start world war III?\n",
      "What are the chances of WW3 in 2017?\n",
      "\n",
      "What are examples of Conspiracies Theories that turned out to be true?\n",
      "Are all theories about conspiracies conspiracy theories?\n",
      "\n",
      "Which is the best food to gain weight?\n",
      "How can I loose weight for wedding?\n",
      "\n",
      "What would happen if India attacked Pakistan tomorrow?\n",
      "What will happen if Pakistan attacks India with nuclear weapons?\n",
      "\n",
      "How do I improve my English with creative writing skills?\n",
      "How do I continue to improve my writing?\n",
      "\n",
      "How do I loose weight fast for operation?\n",
      "How can I burn my fat?\n",
      "\n",
      "What is the best way to get rid of acne?\n",
      "How can I get rid of pimples and scars?\n",
      "\n",
      "What is the best way to flush methamphetamines out of your system?\n",
      "How long does meth say in your urine?\n",
      "\n",
      "What's the best way to prepare for GRE?\n",
      "How do I prepare for TOEFL or IELTS?\n",
      "\n",
      "What can I do to get a flat tummy?\n",
      "I want to lose weight, can you tell me some tips to help me?\n",
      "\n",
      "How can I see who viewed my instagram?\n",
      "How do people earn money through Instagram?\n",
      "\n",
      "Is Python good to start learning programming?\n",
      "How can I learn more programming?\n",
      "\n",
      "What should I do to focus on study?\n",
      "Why do I always feel sleepy when I start to study biology? What must I do?\n",
      "\n",
      "Can you suggest a best budget phone below 15k?\n",
      "What are the best phones under 20000?\n",
      "\n",
      "How can I improve my English reading comprehension?\n",
      "What are some good websites to improve reading comprehension?\n",
      "\n",
      "Which are best mobile phones to buy under 15000?\n",
      "Which is the best smartphones under 10k in India?\n",
      "\n",
      "How do I reduce my belly fat easily?\n",
      "How do I lose stubborn belly fat?\n",
      "\n",
      "How do you make easy money online?\n",
      "What is the best way to to make money?\n",
      "\n",
      "Where can you find out what needs to be improved if your question was marked for needing revision?\n",
      "Why are all my questions immediately being marked as needing improvement?\n",
      "\n",
      "How can I improve my English speaking skills as well as writing skills?\n",
      "How can one improve his writing skills?\n",
      "\n",
      "Is it possible to make an Iron Man suit?\n",
      "How can I make my real iron man suit?\n",
      "\n",
      "What are the safety precautions on handling shotguns proposed by the NRA in the entire U.S. including it’s territories and possessions? 1\n",
      "What are the safety precautions on handling shotguns proposed by the NRA in Kansas?\n",
      "\n",
      "Why are people not answering my questions on Quora?\n",
      "Why do my awesome questions never get more than 2 or 3 answers when some others get 50 or more?\n",
      "\n",
      "Will we ever achieve immortality?\n",
      "When do you think humanity will become extinct?\n",
      "\n",
      "What are some coolest camping gadgets that exist that most people don't know about?\n",
      "What are some of the best camping gadgets and tools?\n",
      "\n",
      "Can hair dye help pass a hair follicle drug test for daily meth smokers?\n",
      "What can I do to clean out my system from meth?\n",
      "\n",
      "How do you earn money from internet?\n",
      "What is the best way to to make money?\n",
      "\n",
      "Can we use petrol in diesel engine?\n",
      "What happened if we use diesel in petrol engine?\n",
      "\n",
      "What are the best java books?\n",
      "How can I learn Java in a simple way?\n",
      "\n",
      "What is the best laptop within 60k available in India?\n",
      "What is best laptop under 40000 rupees?\n",
      "\n",
      "What is the easiest way to loose weight?\n",
      "How do I lose 7kgs in 2 weeks?\n",
      "\n",
      "What do Americans think of British accents?\n",
      "What do people from other countries think about American accents?\n",
      "\n",
      "How do you stay fit if you don't like the gym?\n",
      "How do I get rid of the last layer of fat from my belly?\n",
      "\n",
      "How do I delete my Instagram account when I have forgotten my password and the password to my email?\n",
      "What do I do if I don't know my Snapchat password or email to it?\n",
      "\n",
      "What is the rationale behind introducing 2000 rupee note by India Government?\n",
      "What will be favourable and unfavourable impacts of demonetisation of 500 and 1000 notes on the lives of people?\n",
      "\n"
     ]
    }
   ],
   "source": [
    "for i in range(50):\n",
    "    qid1, qid2 = augmented_negative_pairs[i * 10]\n",
    "    first_question = data_questions.iloc[qid1 - 1].question\n",
    "    second_question = data_questions.iloc[qid2 - 1].question\n",
    "    print(first_question)\n",
    "    print(second_question)\n",
    "    print()"
   ],
   "metadata": {
    "collapsed": false,
    "ExecuteTime": {
     "end_time": "2023-06-03T09:10:37.144722513Z",
     "start_time": "2023-06-03T09:10:37.144331505Z"
    }
   }
  },
  {
   "cell_type": "markdown",
   "source": [
    "# create dataset for each experiment"
   ],
   "metadata": {
    "collapsed": false
   }
  },
  {
   "cell_type": "code",
   "execution_count": 17,
   "outputs": [],
   "source": [
    "def get_pairs(step, fraction_negative):\n",
    "    pairs = []\n",
    "    for _, (qid1, qid2, _, _, is_duplicate, _) in data_pairs.iterrows():\n",
    "        pairs.append([get_pair_index(qid1, qid2), is_duplicate])\n",
    "\n",
    "    positive_count = 0\n",
    "    for i in range(step):\n",
    "        for qid1, qid2 in augmented_positive_pairs[i]:\n",
    "            pairs.append([get_pair_index(qid1, qid2), 1])\n",
    "        positive_count += len(augmented_positive_pairs[i])\n",
    "\n",
    "    if fraction_negative == 0: return pairs\n",
    "\n",
    "    total_number_of_augmented = len(augmented_negative_pairs)\n",
    "    to_add_negative = int(fraction_negative * positive_count)\n",
    "    to_add_negative = min(to_add_negative, total_number_of_augmented)\n",
    "    random_permutation = np.random.permutation(augmented_negative_pairs)\n",
    "    for qid1, qid2 in random_permutation[:to_add_negative]:\n",
    "        pairs.append([get_pair_index(qid1, qid2), 0])\n",
    "\n",
    "    return pairs\n",
    "\n",
    "def get_dataset(step, fraction_negative):\n",
    "    pairs = get_pairs(step, fraction_negative)\n",
    "    return pd.DataFrame(pairs, columns=[\"pair_id\", \"is_duplicate\"])"
   ],
   "metadata": {
    "collapsed": false,
    "ExecuteTime": {
     "end_time": "2023-05-28T15:30:49.889853566Z",
     "start_time": "2023-05-28T15:30:49.843184828Z"
    }
   }
  },
  {
   "cell_type": "code",
   "execution_count": 18,
   "outputs": [],
   "source": [
    "step, fraction = 1, 0.0\n",
    "experiment_dataset = get_dataset(step, fraction)\n",
    "experiment_dataset.to_csv(f\"./data/experiments/instance_{step}_{fraction:.2f}.csv\", index=False)"
   ],
   "metadata": {
    "collapsed": false,
    "ExecuteTime": {
     "end_time": "2023-05-28T15:31:01.699610834Z",
     "start_time": "2023-05-28T15:30:49.889559681Z"
    }
   }
  },
  {
   "cell_type": "code",
   "execution_count": 19,
   "outputs": [],
   "source": [
    "step, fraction = 1, 1.0\n",
    "experiment_dataset = get_dataset(step, fraction)\n",
    "experiment_dataset.to_csv(f\"./data/experiments/instance_{step}_{fraction:.2f}.csv\", index=False)"
   ],
   "metadata": {
    "collapsed": false,
    "ExecuteTime": {
     "end_time": "2023-05-28T15:31:13.676293077Z",
     "start_time": "2023-05-28T15:31:01.701723343Z"
    }
   }
  },
  {
   "cell_type": "code",
   "execution_count": 20,
   "outputs": [],
   "source": [
    "step, fraction = 1, 2.0\n",
    "experiment_dataset = get_dataset(step, fraction)\n",
    "experiment_dataset.to_csv(f\"./data/experiments/instance_{step}_{fraction:.2f}.csv\", index=False)"
   ],
   "metadata": {
    "collapsed": false,
    "ExecuteTime": {
     "end_time": "2023-05-28T15:31:25.921958225Z",
     "start_time": "2023-05-28T15:31:13.721525543Z"
    }
   }
  },
  {
   "cell_type": "code",
   "execution_count": 21,
   "outputs": [],
   "source": [
    "step, fraction = 2, 0.0\n",
    "experiment_dataset = get_dataset(step, fraction)\n",
    "experiment_dataset.to_csv(f\"./data/experiments/instance_{step}_{fraction:.2f}.csv\", index=False)"
   ],
   "metadata": {
    "collapsed": false,
    "ExecuteTime": {
     "end_time": "2023-05-28T15:31:37.690264909Z",
     "start_time": "2023-05-28T15:31:25.923929673Z"
    }
   }
  },
  {
   "cell_type": "code",
   "execution_count": 22,
   "outputs": [],
   "source": [
    "step, fraction = 2, 1.0\n",
    "experiment_dataset = get_dataset(step, fraction)\n",
    "experiment_dataset.to_csv(f\"./data/experiments/instance_{step}_{fraction:.2f}.csv\", index=False)"
   ],
   "metadata": {
    "collapsed": false,
    "ExecuteTime": {
     "end_time": "2023-05-28T15:31:50.356324417Z",
     "start_time": "2023-05-28T15:31:37.733538042Z"
    }
   }
  },
  {
   "cell_type": "code",
   "execution_count": 23,
   "outputs": [],
   "source": [
    "step, fraction = 2, 2.0\n",
    "experiment_dataset = get_dataset(step, fraction)\n",
    "experiment_dataset.to_csv(f\"./data/experiments/instance_{step}_{fraction:.2f}.csv\", index=False)"
   ],
   "metadata": {
    "collapsed": false,
    "ExecuteTime": {
     "end_time": "2023-05-28T15:32:02.446869675Z",
     "start_time": "2023-05-28T15:31:50.171529668Z"
    }
   }
  },
  {
   "cell_type": "code",
   "execution_count": 24,
   "outputs": [],
   "source": [
    "step, fraction = 3, 0.0\n",
    "experiment_dataset = get_dataset(step, fraction)\n",
    "experiment_dataset.to_csv(f\"./data/experiments/instance_{step}_{fraction:.2f}.csv\", index=False)"
   ],
   "metadata": {
    "collapsed": false,
    "ExecuteTime": {
     "end_time": "2023-05-28T15:32:14.458590714Z",
     "start_time": "2023-05-28T15:32:02.489477674Z"
    }
   }
  },
  {
   "cell_type": "code",
   "execution_count": 25,
   "outputs": [],
   "source": [
    "step, fraction = 3, 1.0\n",
    "experiment_dataset = get_dataset(step, fraction)\n",
    "experiment_dataset.to_csv(f\"./data/experiments/instance_{step}_{fraction:.2f}.csv\", index=False)"
   ],
   "metadata": {
    "collapsed": false,
    "ExecuteTime": {
     "end_time": "2023-05-28T15:32:26.617064421Z",
     "start_time": "2023-05-28T15:32:14.461002730Z"
    }
   }
  },
  {
   "cell_type": "code",
   "execution_count": 26,
   "outputs": [],
   "source": [
    "step, fraction = 3, 2.0\n",
    "experiment_dataset = get_dataset(step, fraction)\n",
    "experiment_dataset.to_csv(f\"./data/experiments/instance_{step}_{fraction:.2f}.csv\", index=False)"
   ],
   "metadata": {
    "collapsed": false,
    "ExecuteTime": {
     "end_time": "2023-05-28T15:32:38.571059319Z",
     "start_time": "2023-05-28T15:32:26.619512060Z"
    }
   }
  },
  {
   "cell_type": "code",
   "execution_count": 26,
   "outputs": [],
   "source": [],
   "metadata": {
    "collapsed": false,
    "ExecuteTime": {
     "end_time": "2023-05-28T15:32:38.613898167Z",
     "start_time": "2023-05-28T15:32:38.613575649Z"
    }
   }
  }
 ],
 "metadata": {
  "kernelspec": {
   "display_name": "Python 3",
   "language": "python",
   "name": "python3"
  },
  "language_info": {
   "codemirror_mode": {
    "name": "ipython",
    "version": 2
   },
   "file_extension": ".py",
   "mimetype": "text/x-python",
   "name": "python",
   "nbconvert_exporter": "python",
   "pygments_lexer": "ipython2",
   "version": "2.7.6"
  }
 },
 "nbformat": 4,
 "nbformat_minor": 0
}

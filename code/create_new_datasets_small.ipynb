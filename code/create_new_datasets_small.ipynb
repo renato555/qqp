{
 "cells": [
  {
   "cell_type": "code",
   "execution_count": 1,
   "metadata": {
    "collapsed": true,
    "ExecuteTime": {
     "end_time": "2023-06-01T18:44:03.911021259Z",
     "start_time": "2023-06-01T18:44:03.180907043Z"
    }
   },
   "outputs": [],
   "source": [
    "import pandas as pd\n",
    "import numpy as np\n",
    "import matplotlib.pyplot as plt\n",
    "from collections import defaultdict\n",
    "import sys\n",
    "import random\n",
    "from itertools import product\n",
    "from sklearn.model_selection import train_test_split"
   ]
  },
  {
   "cell_type": "markdown",
   "source": [
    "# load datasets"
   ],
   "metadata": {
    "collapsed": false
   }
  },
  {
   "cell_type": "code",
   "execution_count": 2,
   "outputs": [
    {
     "data": {
      "text/plain": "          qid1    qid2                                          question1  \\\n19485   332128  332129  What are some venture capital firms that focus...   \n330988  413782  413783          Are Odias considered to be North Indians?   \n83911    25020  458354        What are some websites similar to Coursera?   \n105254  112361   53189  Why are electron orbitals shaped the way they ...   \n248524  113720  113721  What should be the minimum TDS level for the d...   \n\n                                                question2  is_duplicate  \\\n19485   What are some venture capital firms that focus...             0   \n330988  Why are odias considered as north Indians when...             1   \n83911                   Are Coursera programs recognised?             0   \n105254  What is the easier way to understand the conce...             1   \n248524  Is water with TDS around 9 and ph at 7.5 fit f...             0   \n\n        pair_id  \n19485    224133  \n330988   292229  \n83911    331454  \n105254    64682  \n248524    65533  ",
      "text/html": "<div>\n<style scoped>\n    .dataframe tbody tr th:only-of-type {\n        vertical-align: middle;\n    }\n\n    .dataframe tbody tr th {\n        vertical-align: top;\n    }\n\n    .dataframe thead th {\n        text-align: right;\n    }\n</style>\n<table border=\"1\" class=\"dataframe\">\n  <thead>\n    <tr style=\"text-align: right;\">\n      <th></th>\n      <th>qid1</th>\n      <th>qid2</th>\n      <th>question1</th>\n      <th>question2</th>\n      <th>is_duplicate</th>\n      <th>pair_id</th>\n    </tr>\n  </thead>\n  <tbody>\n    <tr>\n      <th>19485</th>\n      <td>332128</td>\n      <td>332129</td>\n      <td>What are some venture capital firms that focus...</td>\n      <td>What are some venture capital firms that focus...</td>\n      <td>0</td>\n      <td>224133</td>\n    </tr>\n    <tr>\n      <th>330988</th>\n      <td>413782</td>\n      <td>413783</td>\n      <td>Are Odias considered to be North Indians?</td>\n      <td>Why are odias considered as north Indians when...</td>\n      <td>1</td>\n      <td>292229</td>\n    </tr>\n    <tr>\n      <th>83911</th>\n      <td>25020</td>\n      <td>458354</td>\n      <td>What are some websites similar to Coursera?</td>\n      <td>Are Coursera programs recognised?</td>\n      <td>0</td>\n      <td>331454</td>\n    </tr>\n    <tr>\n      <th>105254</th>\n      <td>112361</td>\n      <td>53189</td>\n      <td>Why are electron orbitals shaped the way they ...</td>\n      <td>What is the easier way to understand the conce...</td>\n      <td>1</td>\n      <td>64682</td>\n    </tr>\n    <tr>\n      <th>248524</th>\n      <td>113720</td>\n      <td>113721</td>\n      <td>What should be the minimum TDS level for the d...</td>\n      <td>Is water with TDS around 9 and ph at 7.5 fit f...</td>\n      <td>0</td>\n      <td>65533</td>\n    </tr>\n  </tbody>\n</table>\n</div>"
     },
     "execution_count": 2,
     "metadata": {},
     "output_type": "execute_result"
    }
   ],
   "source": [
    "data_pairs = pd.read_csv(\"./data/train_split.csv\")\n",
    "data_pairs, _ = train_test_split(data_pairs, train_size=50000)\n",
    "data_pairs.head()"
   ],
   "metadata": {
    "collapsed": false,
    "ExecuteTime": {
     "end_time": "2023-06-01T18:44:04.692605927Z",
     "start_time": "2023-06-01T18:44:04.024642681Z"
    }
   }
  },
  {
   "cell_type": "code",
   "execution_count": 28,
   "outputs": [
    {
     "data": {
      "text/plain": "18424"
     },
     "execution_count": 28,
     "metadata": {},
     "output_type": "execute_result"
    }
   ],
   "source": [
    "sum(data_pairs.is_duplicate == 1)"
   ],
   "metadata": {
    "collapsed": false,
    "ExecuteTime": {
     "end_time": "2023-06-01T18:46:34.181148604Z",
     "start_time": "2023-06-01T18:46:34.139679322Z"
    }
   }
  },
  {
   "cell_type": "code",
   "execution_count": 29,
   "outputs": [
    {
     "data": {
      "text/plain": "31576"
     },
     "execution_count": 29,
     "metadata": {},
     "output_type": "execute_result"
    }
   ],
   "source": [
    "sum(data_pairs.is_duplicate == 0)"
   ],
   "metadata": {
    "collapsed": false,
    "ExecuteTime": {
     "end_time": "2023-06-01T18:46:40.730194937Z",
     "start_time": "2023-06-01T18:46:40.710165255Z"
    }
   }
  },
  {
   "cell_type": "code",
   "execution_count": 3,
   "outputs": [
    {
     "data": {
      "text/plain": "   qid1  qid2                                          question1  \\\n0     1     2  What is the step by step guide to invest in sh...   \n1     3     4  What is the story of Kohinoor (Koh-i-Noor) Dia...   \n2     5     6  How can I increase the speed of my internet co...   \n3     7     8  Why am I mentally very lonely? How can I solve...   \n4     9    10  Which one dissolve in water quikly sugar, salt...   \n\n                                           question2  is_duplicate  \n0  What is the step by step guide to invest in sh...             0  \n1  What would happen if the Indian government sto...             0  \n2  How can Internet speed be increased by hacking...             0  \n3  Find the remainder when [math]23^{24}[/math] i...             0  \n4            Which fish would survive in salt water?             0  ",
      "text/html": "<div>\n<style scoped>\n    .dataframe tbody tr th:only-of-type {\n        vertical-align: middle;\n    }\n\n    .dataframe tbody tr th {\n        vertical-align: top;\n    }\n\n    .dataframe thead th {\n        text-align: right;\n    }\n</style>\n<table border=\"1\" class=\"dataframe\">\n  <thead>\n    <tr style=\"text-align: right;\">\n      <th></th>\n      <th>qid1</th>\n      <th>qid2</th>\n      <th>question1</th>\n      <th>question2</th>\n      <th>is_duplicate</th>\n    </tr>\n  </thead>\n  <tbody>\n    <tr>\n      <th>0</th>\n      <td>1</td>\n      <td>2</td>\n      <td>What is the step by step guide to invest in sh...</td>\n      <td>What is the step by step guide to invest in sh...</td>\n      <td>0</td>\n    </tr>\n    <tr>\n      <th>1</th>\n      <td>3</td>\n      <td>4</td>\n      <td>What is the story of Kohinoor (Koh-i-Noor) Dia...</td>\n      <td>What would happen if the Indian government sto...</td>\n      <td>0</td>\n    </tr>\n    <tr>\n      <th>2</th>\n      <td>5</td>\n      <td>6</td>\n      <td>How can I increase the speed of my internet co...</td>\n      <td>How can Internet speed be increased by hacking...</td>\n      <td>0</td>\n    </tr>\n    <tr>\n      <th>3</th>\n      <td>7</td>\n      <td>8</td>\n      <td>Why am I mentally very lonely? How can I solve...</td>\n      <td>Find the remainder when [math]23^{24}[/math] i...</td>\n      <td>0</td>\n    </tr>\n    <tr>\n      <th>4</th>\n      <td>9</td>\n      <td>10</td>\n      <td>Which one dissolve in water quikly sugar, salt...</td>\n      <td>Which fish would survive in salt water?</td>\n      <td>0</td>\n    </tr>\n  </tbody>\n</table>\n</div>"
     },
     "execution_count": 3,
     "metadata": {},
     "output_type": "execute_result"
    }
   ],
   "source": [
    "all_data_pairs = pd.read_csv(\"./data/all_possible_pairs.csv\")\n",
    "all_data_pairs.head()"
   ],
   "metadata": {
    "collapsed": false,
    "ExecuteTime": {
     "end_time": "2023-06-01T18:44:05.718741914Z",
     "start_time": "2023-06-01T18:44:04.876882280Z"
    }
   }
  },
  {
   "cell_type": "code",
   "execution_count": 4,
   "outputs": [],
   "source": [
    "qids_to_index = dict()\n",
    "\n",
    "for index, (qid1, qid2, question1, question2, is_duplicate) in all_data_pairs.iterrows():\n",
    "    qids_to_index[(qid1, qid2)] = index\n",
    "\n",
    "def get_pair_index(qid1, qid2):\n",
    "    if (qid1, qid2) in qids_to_index:\n",
    "        return qids_to_index[(qid1, qid2)]\n",
    "    return qids_to_index[(qid2, qid1)]"
   ],
   "metadata": {
    "collapsed": false,
    "ExecuteTime": {
     "end_time": "2023-06-01T18:44:26.630366883Z",
     "start_time": "2023-06-01T18:44:06.717068396Z"
    }
   }
  },
  {
   "cell_type": "code",
   "execution_count": 5,
   "outputs": [],
   "source": [
    "valid_data_pairs = pd.read_csv(\"./data/valid_split.csv\")\n",
    "valid_pairs = set()\n",
    "for _, (qid1, qid2, _, _, is_duplicate, _) in valid_data_pairs.iterrows():\n",
    "    lower_id = min(qid1, qid2)\n",
    "    higher_id = max(qid1, qid2)\n",
    "    valid_pairs.add((lower_id, higher_id))"
   ],
   "metadata": {
    "collapsed": false,
    "ExecuteTime": {
     "end_time": "2023-06-01T18:44:27.614718367Z",
     "start_time": "2023-06-01T18:44:26.632926547Z"
    }
   }
  },
  {
   "cell_type": "code",
   "execution_count": 6,
   "outputs": [],
   "source": [
    "test_data_pairs = pd.read_csv(\"./data/test_split.csv\")\n",
    "test_pairs = set()\n",
    "for _, (qid1, qid2, _, _, is_duplicate, _) in test_data_pairs.iterrows():\n",
    "    lower_id = min(qid1, qid2)\n",
    "    higher_id = max(qid1, qid2)\n",
    "    test_pairs.add((lower_id, higher_id))"
   ],
   "metadata": {
    "collapsed": false,
    "ExecuteTime": {
     "end_time": "2023-06-01T18:44:28.579142750Z",
     "start_time": "2023-06-01T18:44:27.616625854Z"
    }
   }
  },
  {
   "cell_type": "markdown",
   "source": [
    "# create graphs"
   ],
   "metadata": {
    "collapsed": false
   }
  },
  {
   "cell_type": "code",
   "execution_count": 7,
   "outputs": [],
   "source": [
    "graph_similar = defaultdict(lambda: [])\n",
    "original_similar_pairs = set()\n",
    "for _, (qid1, qid2, _, _, is_duplicate, _) in data_pairs.iterrows():\n",
    "    if not is_duplicate: continue\n",
    "\n",
    "    graph_similar[qid1].append(qid2)\n",
    "    graph_similar[qid2].append(qid1)\n",
    "\n",
    "    lower_id = min(qid1, qid2)\n",
    "    higher_id = max(qid1, qid2)\n",
    "    original_similar_pairs.add((lower_id, higher_id))"
   ],
   "metadata": {
    "collapsed": false,
    "ExecuteTime": {
     "end_time": "2023-06-01T18:44:30.125541788Z",
     "start_time": "2023-06-01T18:44:28.613538739Z"
    }
   }
  },
  {
   "cell_type": "code",
   "execution_count": 8,
   "outputs": [],
   "source": [
    "graph_non_similar = defaultdict(lambda: [])\n",
    "original_non_similar_pairs = set()\n",
    "for _, (qid1, qid2, _, _, is_duplicate, _) in data_pairs.iterrows():\n",
    "    if is_duplicate: continue\n",
    "\n",
    "    graph_non_similar[qid1].append(qid2)\n",
    "    graph_non_similar[qid2].append(qid1)\n",
    "\n",
    "    lower_id = min(qid1, qid2)\n",
    "    higher_id = max(qid1, qid2)\n",
    "    original_non_similar_pairs.add((lower_id, higher_id))"
   ],
   "metadata": {
    "collapsed": false,
    "ExecuteTime": {
     "end_time": "2023-06-01T18:44:31.890887308Z",
     "start_time": "2023-06-01T18:44:30.127947981Z"
    }
   }
  },
  {
   "cell_type": "markdown",
   "source": [
    "# calculate components"
   ],
   "metadata": {
    "collapsed": false
   }
  },
  {
   "cell_type": "code",
   "execution_count": 9,
   "outputs": [],
   "source": [
    "labels = defaultdict(lambda : 0)\n",
    "components = defaultdict(lambda: [])\n",
    "\n",
    "def visit(node, level):\n",
    "    stack = [node]\n",
    "    while len(stack) > 0:\n",
    "        v = stack.pop()\n",
    "        if labels[v] != 0: continue\n",
    "        labels[v] = level\n",
    "        components[level].append(v)\n",
    "        stack += graph_similar[v]\n",
    "\n",
    "level = 0\n",
    "for node in graph_similar:\n",
    "    if labels[node] == 0:\n",
    "        level += 1\n",
    "        visit(node, level)"
   ],
   "metadata": {
    "collapsed": false,
    "ExecuteTime": {
     "end_time": "2023-06-01T18:44:31.976191607Z",
     "start_time": "2023-06-01T18:44:31.901585481Z"
    }
   }
  },
  {
   "cell_type": "markdown",
   "source": [
    "# pozitivne augmentacije"
   ],
   "metadata": {
    "collapsed": false
   }
  },
  {
   "cell_type": "code",
   "execution_count": 10,
   "outputs": [],
   "source": [
    "transitive_positive_neighbours = defaultdict(lambda : 200)\n",
    "\n",
    "def find_positive_transitive_neighbours(node):\n",
    "    depth = 1\n",
    "    visited = {node}\n",
    "    queue = [node]\n",
    "    while len(queue):\n",
    "        next_neighbours = [u for v in queue for u in graph_similar[v] if u not in visited]\n",
    "        for neighbour in next_neighbours:\n",
    "            visited.add(neighbour)\n",
    "            lower_id, higher_id = min(node, neighbour), max(node, neighbour)\n",
    "            transitive_positive_neighbours[(lower_id, higher_id)] = depth\n",
    "\n",
    "        depth += 1\n",
    "        queue = list(set(next_neighbours))\n",
    "\n",
    "for node in graph_similar:\n",
    "    find_positive_transitive_neighbours(node)"
   ],
   "metadata": {
    "collapsed": false,
    "ExecuteTime": {
     "end_time": "2023-06-01T18:44:32.121550030Z",
     "start_time": "2023-06-01T18:44:31.978912042Z"
    }
   }
  },
  {
   "cell_type": "code",
   "execution_count": 11,
   "outputs": [],
   "source": [
    "augmented_positive_pairs = [[], [], []]\n",
    "\n",
    "for pair, depth in transitive_positive_neighbours.items():\n",
    "    if depth == 1: continue\n",
    "    depth = min(depth, 4)\n",
    "    augmented_positive_pairs[depth - 2].append(pair)"
   ],
   "metadata": {
    "collapsed": false,
    "ExecuteTime": {
     "end_time": "2023-06-01T18:44:32.136523697Z",
     "start_time": "2023-06-01T18:44:32.135277176Z"
    }
   }
  },
  {
   "cell_type": "code",
   "execution_count": 12,
   "outputs": [
    {
     "data": {
      "text/plain": "[10070, 10615, 14973]"
     },
     "execution_count": 12,
     "metadata": {},
     "output_type": "execute_result"
    }
   ],
   "source": [
    "[len(pairs) for pairs in augmented_positive_pairs]"
   ],
   "metadata": {
    "collapsed": false,
    "ExecuteTime": {
     "end_time": "2023-06-01T18:44:32.181347901Z",
     "start_time": "2023-06-01T18:44:32.137145394Z"
    }
   }
  },
  {
   "cell_type": "code",
   "execution_count": 13,
   "outputs": [
    {
     "name": "stdout",
     "output_type": "stream",
     "text": [
      "True\n"
     ]
    }
   ],
   "source": [
    "print(np.array([a < b for a, b, in transitive_positive_neighbours.keys()]).all())"
   ],
   "metadata": {
    "collapsed": false,
    "ExecuteTime": {
     "end_time": "2023-06-01T18:44:32.181802679Z",
     "start_time": "2023-06-01T18:44:32.181016521Z"
    }
   }
  },
  {
   "cell_type": "markdown",
   "source": [
    "# negativne augmentacije"
   ],
   "metadata": {
    "collapsed": false
   }
  },
  {
   "cell_type": "code",
   "execution_count": 14,
   "outputs": [],
   "source": [
    "augmented_negative_pairs = set()\n",
    "\n",
    "for qid1, qid2 in original_non_similar_pairs:\n",
    "    k1 = labels[qid1]\n",
    "    k2 = labels[qid2]\n",
    "    if k1 == k2: continue\n",
    "\n",
    "    k1_components = components[k1]\n",
    "    k2_components = components[k2]\n",
    "    for qid1_new, qid2_new in product(k1_components, k2_components):\n",
    "        lower_id = min(qid1_new, qid2_new)\n",
    "        higher_id = max(qid1_new, qid2_new)\n",
    "        augmented_negative_pairs.add((lower_id, higher_id))\n",
    "\n",
    "augmented_negative_pairs = augmented_negative_pairs.difference(original_non_similar_pairs)\n",
    "augmented_negative_pairs = list(augmented_negative_pairs)"
   ],
   "metadata": {
    "collapsed": false,
    "ExecuteTime": {
     "end_time": "2023-06-01T18:44:32.229158694Z",
     "start_time": "2023-06-01T18:44:32.181580506Z"
    }
   }
  },
  {
   "cell_type": "code",
   "execution_count": 15,
   "outputs": [
    {
     "data": {
      "text/plain": "5410"
     },
     "execution_count": 15,
     "metadata": {},
     "output_type": "execute_result"
    }
   ],
   "source": [
    "len(augmented_negative_pairs)"
   ],
   "metadata": {
    "collapsed": false,
    "ExecuteTime": {
     "end_time": "2023-06-01T18:44:32.229536131Z",
     "start_time": "2023-06-01T18:44:32.224898483Z"
    }
   }
  },
  {
   "cell_type": "markdown",
   "source": [
    "# makni augmentacije koje su u testi valid setu"
   ],
   "metadata": {
    "collapsed": false
   }
  },
  {
   "cell_type": "code",
   "execution_count": 16,
   "outputs": [
    {
     "name": "stdout",
     "output_type": "stream",
     "text": [
      "[9416, 10050, 14496]\n",
      "5406\n"
     ]
    }
   ],
   "source": [
    "augmented_positive_pairs[0] = list(set(augmented_positive_pairs[0]).difference(test_pairs))\n",
    "augmented_positive_pairs[1] = list(set(augmented_positive_pairs[1]).difference(test_pairs))\n",
    "augmented_positive_pairs[2] = list(set(augmented_positive_pairs[2]).difference(test_pairs))\n",
    "augmented_negative_pairs = list(set(augmented_negative_pairs).difference(test_pairs))\n",
    "\n",
    "print([len(pairs) for pairs in augmented_positive_pairs])\n",
    "print(len(augmented_negative_pairs))"
   ],
   "metadata": {
    "collapsed": false,
    "ExecuteTime": {
     "end_time": "2023-06-01T18:44:32.229830483Z",
     "start_time": "2023-06-01T18:44:32.225063011Z"
    }
   }
  },
  {
   "cell_type": "code",
   "execution_count": 17,
   "outputs": [
    {
     "name": "stdout",
     "output_type": "stream",
     "text": [
      "[8779, 9514, 13996]\n",
      "5404\n"
     ]
    }
   ],
   "source": [
    "augmented_positive_pairs[0] = list(set(augmented_positive_pairs[0]).difference(valid_pairs))\n",
    "augmented_positive_pairs[1] = list(set(augmented_positive_pairs[1]).difference(valid_pairs))\n",
    "augmented_positive_pairs[2] = list(set(augmented_positive_pairs[2]).difference(valid_pairs))\n",
    "augmented_negative_pairs = list(set(augmented_negative_pairs).difference(valid_pairs))\n",
    "\n",
    "print([len(pairs) for pairs in augmented_positive_pairs])\n",
    "print(len(augmented_negative_pairs))"
   ],
   "metadata": {
    "collapsed": false,
    "ExecuteTime": {
     "end_time": "2023-06-01T18:44:32.284161392Z",
     "start_time": "2023-06-01T18:44:32.225172971Z"
    }
   }
  },
  {
   "cell_type": "markdown",
   "source": [
    "# create dataset for each experiment"
   ],
   "metadata": {
    "collapsed": false
   }
  },
  {
   "cell_type": "code",
   "execution_count": 18,
   "outputs": [],
   "source": [
    "def get_pairs(step, fraction_negative):\n",
    "    pairs = []\n",
    "    for _, (qid1, qid2, _, _, is_duplicate, _) in data_pairs.iterrows():\n",
    "        pairs.append([get_pair_index(qid1, qid2), is_duplicate])\n",
    "\n",
    "    positive_count = 0\n",
    "    for i in range(step):\n",
    "        for qid1, qid2 in augmented_positive_pairs[i]:\n",
    "            pairs.append([get_pair_index(qid1, qid2), 1])\n",
    "        positive_count += len(augmented_positive_pairs[i])\n",
    "\n",
    "    if fraction_negative == 0: return pairs\n",
    "\n",
    "    total_number_of_augmented = len(augmented_negative_pairs)\n",
    "    to_add_negative = int(fraction_negative * positive_count)\n",
    "    to_add_negative = min(to_add_negative, total_number_of_augmented)\n",
    "    random_permutation = np.random.permutation(augmented_negative_pairs)\n",
    "    for qid1, qid2 in random_permutation[:to_add_negative]:\n",
    "        pairs.append([get_pair_index(qid1, qid2), 0])\n",
    "\n",
    "    return pairs\n",
    "\n",
    "def get_dataset(step, fraction_negative):\n",
    "    pairs = get_pairs(step, fraction_negative)\n",
    "    return pd.DataFrame(pairs, columns=[\"pair_id\", \"is_duplicate\"])"
   ],
   "metadata": {
    "collapsed": false,
    "ExecuteTime": {
     "end_time": "2023-06-01T18:44:32.291731193Z",
     "start_time": "2023-06-01T18:44:32.268904899Z"
    }
   }
  },
  {
   "cell_type": "code",
   "execution_count": 19,
   "outputs": [],
   "source": [
    "step, fraction = 1, 0.0\n",
    "experiment_dataset = get_dataset(step, fraction)\n",
    "experiment_dataset.to_csv(f\"./data/experiments_small/instance_{step}_{fraction:.2f}.csv\", index=False)"
   ],
   "metadata": {
    "collapsed": false,
    "ExecuteTime": {
     "end_time": "2023-06-01T18:45:23.961332062Z",
     "start_time": "2023-06-01T18:45:22.144075946Z"
    }
   }
  },
  {
   "cell_type": "code",
   "execution_count": 20,
   "outputs": [],
   "source": [
    "step, fraction = 1, 1.0\n",
    "experiment_dataset = get_dataset(step, fraction)\n",
    "experiment_dataset.to_csv(f\"./data/experiments_small/instance_{step}_{fraction:.2f}.csv\", index=False)"
   ],
   "metadata": {
    "collapsed": false,
    "ExecuteTime": {
     "end_time": "2023-06-01T18:45:25.741117057Z",
     "start_time": "2023-06-01T18:45:23.962764925Z"
    }
   }
  },
  {
   "cell_type": "code",
   "execution_count": 21,
   "outputs": [],
   "source": [
    "step, fraction = 1, 2.0\n",
    "experiment_dataset = get_dataset(step, fraction)\n",
    "experiment_dataset.to_csv(f\"./data/experiments_small/instance_{step}_{fraction:.2f}.csv\", index=False)"
   ],
   "metadata": {
    "collapsed": false,
    "ExecuteTime": {
     "end_time": "2023-06-01T18:45:27.432612286Z",
     "start_time": "2023-06-01T18:45:25.742718928Z"
    }
   }
  },
  {
   "cell_type": "code",
   "execution_count": 22,
   "outputs": [],
   "source": [
    "step, fraction = 2, 0.0\n",
    "experiment_dataset = get_dataset(step, fraction)\n",
    "experiment_dataset.to_csv(f\"./data/experiments_small/instance_{step}_{fraction:.2f}.csv\", index=False)"
   ],
   "metadata": {
    "collapsed": false,
    "ExecuteTime": {
     "end_time": "2023-06-01T18:45:29.064019275Z",
     "start_time": "2023-06-01T18:45:27.435116799Z"
    }
   }
  },
  {
   "cell_type": "code",
   "execution_count": 23,
   "outputs": [],
   "source": [
    "step, fraction = 2, 1.0\n",
    "experiment_dataset = get_dataset(step, fraction)\n",
    "experiment_dataset.to_csv(f\"./data/experiments_small/instance_{step}_{fraction:.2f}.csv\", index=False)"
   ],
   "metadata": {
    "collapsed": false,
    "ExecuteTime": {
     "end_time": "2023-06-01T18:45:30.707084433Z",
     "start_time": "2023-06-01T18:45:29.082416392Z"
    }
   }
  },
  {
   "cell_type": "code",
   "execution_count": 24,
   "outputs": [],
   "source": [
    "step, fraction = 2, 2.0\n",
    "experiment_dataset = get_dataset(step, fraction)\n",
    "experiment_dataset.to_csv(f\"./data/experiments_small/instance_{step}_{fraction:.2f}.csv\", index=False)"
   ],
   "metadata": {
    "collapsed": false,
    "ExecuteTime": {
     "end_time": "2023-06-01T18:45:32.352189043Z",
     "start_time": "2023-06-01T18:45:30.708514290Z"
    }
   }
  },
  {
   "cell_type": "code",
   "execution_count": 25,
   "outputs": [],
   "source": [
    "step, fraction = 3, 0.0\n",
    "experiment_dataset = get_dataset(step, fraction)\n",
    "experiment_dataset.to_csv(f\"./data/experiments_small/instance_{step}_{fraction:.2f}.csv\", index=False)"
   ],
   "metadata": {
    "collapsed": false,
    "ExecuteTime": {
     "end_time": "2023-06-01T18:45:34.165012911Z",
     "start_time": "2023-06-01T18:45:32.362503262Z"
    }
   }
  },
  {
   "cell_type": "code",
   "execution_count": 26,
   "outputs": [],
   "source": [
    "step, fraction = 3, 1.0\n",
    "experiment_dataset = get_dataset(step, fraction)\n",
    "experiment_dataset.to_csv(f\"./data/experiments_small/instance_{step}_{fraction:.2f}.csv\", index=False)"
   ],
   "metadata": {
    "collapsed": false,
    "ExecuteTime": {
     "end_time": "2023-06-01T18:45:35.958215216Z",
     "start_time": "2023-06-01T18:45:34.165202004Z"
    }
   }
  },
  {
   "cell_type": "code",
   "execution_count": 27,
   "outputs": [],
   "source": [
    "step, fraction = 3, 2.0\n",
    "experiment_dataset = get_dataset(step, fraction)\n",
    "experiment_dataset.to_csv(f\"./data/experiments_small/instance_{step}_{fraction:.2f}.csv\", index=False)"
   ],
   "metadata": {
    "collapsed": false,
    "ExecuteTime": {
     "end_time": "2023-06-01T18:45:37.575706350Z",
     "start_time": "2023-06-01T18:45:35.965994738Z"
    }
   }
  },
  {
   "cell_type": "code",
   "execution_count": 30,
   "outputs": [],
   "source": [
    "data_pairs.to_csv(\"./data/train_split_small.csv\", index=False)"
   ],
   "metadata": {
    "collapsed": false,
    "ExecuteTime": {
     "end_time": "2023-06-01T18:48:38.762407222Z",
     "start_time": "2023-06-01T18:48:38.625010033Z"
    }
   }
  },
  {
   "cell_type": "code",
   "execution_count": null,
   "outputs": [],
   "source": [],
   "metadata": {
    "collapsed": false
   }
  }
 ],
 "metadata": {
  "kernelspec": {
   "display_name": "Python 3",
   "language": "python",
   "name": "python3"
  },
  "language_info": {
   "codemirror_mode": {
    "name": "ipython",
    "version": 2
   },
   "file_extension": ".py",
   "mimetype": "text/x-python",
   "name": "python",
   "nbconvert_exporter": "python",
   "pygments_lexer": "ipython2",
   "version": "2.7.6"
  }
 },
 "nbformat": 4,
 "nbformat_minor": 0
}

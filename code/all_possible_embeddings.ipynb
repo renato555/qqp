{
 "cells": [
  {
   "cell_type": "code",
   "execution_count": 1,
   "metadata": {
    "collapsed": true,
    "ExecuteTime": {
     "end_time": "2023-05-27T15:27:59.292962006Z",
     "start_time": "2023-05-27T15:27:58.804589669Z"
    }
   },
   "outputs": [],
   "source": [
    "import pandas as pd\n",
    "import numpy as np\n",
    "import matplotlib.pyplot as plt\n",
    "from collections import defaultdict\n",
    "import sys\n",
    "import random\n",
    "from itertools import product"
   ]
  },
  {
   "cell_type": "markdown",
   "source": [
    "# load datasets"
   ],
   "metadata": {
    "collapsed": false
   }
  },
  {
   "cell_type": "code",
   "execution_count": 2,
   "outputs": [
    {
     "data": {
      "text/plain": "   qid1  qid2                                          question1  \\\n0     1     2  What is the step by step guide to invest in sh...   \n1     3     4  What is the story of Kohinoor (Koh-i-Noor) Dia...   \n2     5     6  How can I increase the speed of my internet co...   \n3     7     8  Why am I mentally very lonely? How can I solve...   \n4     9    10  Which one dissolve in water quikly sugar, salt...   \n\n                                           question2  is_duplicate  \n0  What is the step by step guide to invest in sh...             0  \n1  What would happen if the Indian government sto...             0  \n2  How can Internet speed be increased by hacking...             0  \n3  Find the remainder when [math]23^{24}[/math] i...             0  \n4            Which fish would survive in salt water?             0  ",
      "text/html": "<div>\n<style scoped>\n    .dataframe tbody tr th:only-of-type {\n        vertical-align: middle;\n    }\n\n    .dataframe tbody tr th {\n        vertical-align: top;\n    }\n\n    .dataframe thead th {\n        text-align: right;\n    }\n</style>\n<table border=\"1\" class=\"dataframe\">\n  <thead>\n    <tr style=\"text-align: right;\">\n      <th></th>\n      <th>qid1</th>\n      <th>qid2</th>\n      <th>question1</th>\n      <th>question2</th>\n      <th>is_duplicate</th>\n    </tr>\n  </thead>\n  <tbody>\n    <tr>\n      <th>0</th>\n      <td>1</td>\n      <td>2</td>\n      <td>What is the step by step guide to invest in sh...</td>\n      <td>What is the step by step guide to invest in sh...</td>\n      <td>0</td>\n    </tr>\n    <tr>\n      <th>1</th>\n      <td>3</td>\n      <td>4</td>\n      <td>What is the story of Kohinoor (Koh-i-Noor) Dia...</td>\n      <td>What would happen if the Indian government sto...</td>\n      <td>0</td>\n    </tr>\n    <tr>\n      <th>2</th>\n      <td>5</td>\n      <td>6</td>\n      <td>How can I increase the speed of my internet co...</td>\n      <td>How can Internet speed be increased by hacking...</td>\n      <td>0</td>\n    </tr>\n    <tr>\n      <th>3</th>\n      <td>7</td>\n      <td>8</td>\n      <td>Why am I mentally very lonely? How can I solve...</td>\n      <td>Find the remainder when [math]23^{24}[/math] i...</td>\n      <td>0</td>\n    </tr>\n    <tr>\n      <th>4</th>\n      <td>9</td>\n      <td>10</td>\n      <td>Which one dissolve in water quikly sugar, salt...</td>\n      <td>Which fish would survive in salt water?</td>\n      <td>0</td>\n    </tr>\n  </tbody>\n</table>\n</div>"
     },
     "execution_count": 2,
     "metadata": {},
     "output_type": "execute_result"
    }
   ],
   "source": [
    "data_pairs = pd.read_csv(\"./data/train.csv\")\n",
    "data_pairs = data_pairs.drop(\"id\", axis=1)\n",
    "data_pairs.head()"
   ],
   "metadata": {
    "collapsed": false,
    "ExecuteTime": {
     "end_time": "2023-05-27T15:28:00.013424430Z",
     "start_time": "2023-05-27T15:27:59.334249940Z"
    }
   }
  },
  {
   "cell_type": "code",
   "execution_count": 3,
   "outputs": [
    {
     "data": {
      "text/plain": "   qid                                           question\n0    1  What is the step by step guide to invest in sh...\n1    2  What is the step by step guide to invest in sh...\n2    3  What is the story of Kohinoor (Koh-i-Noor) Dia...\n3    4  What would happen if the Indian government sto...\n4    5  How can I increase the speed of my internet co...",
      "text/html": "<div>\n<style scoped>\n    .dataframe tbody tr th:only-of-type {\n        vertical-align: middle;\n    }\n\n    .dataframe tbody tr th {\n        vertical-align: top;\n    }\n\n    .dataframe thead th {\n        text-align: right;\n    }\n</style>\n<table border=\"1\" class=\"dataframe\">\n  <thead>\n    <tr style=\"text-align: right;\">\n      <th></th>\n      <th>qid</th>\n      <th>question</th>\n    </tr>\n  </thead>\n  <tbody>\n    <tr>\n      <th>0</th>\n      <td>1</td>\n      <td>What is the step by step guide to invest in sh...</td>\n    </tr>\n    <tr>\n      <th>1</th>\n      <td>2</td>\n      <td>What is the step by step guide to invest in sh...</td>\n    </tr>\n    <tr>\n      <th>2</th>\n      <td>3</td>\n      <td>What is the story of Kohinoor (Koh-i-Noor) Dia...</td>\n    </tr>\n    <tr>\n      <th>3</th>\n      <td>4</td>\n      <td>What would happen if the Indian government sto...</td>\n    </tr>\n    <tr>\n      <th>4</th>\n      <td>5</td>\n      <td>How can I increase the speed of my internet co...</td>\n    </tr>\n  </tbody>\n</table>\n</div>"
     },
     "execution_count": 3,
     "metadata": {},
     "output_type": "execute_result"
    }
   ],
   "source": [
    "data_questions = pd.read_csv(\"./data/data_questions.csv\")\n",
    "data_questions.head()"
   ],
   "metadata": {
    "collapsed": false,
    "ExecuteTime": {
     "end_time": "2023-05-27T15:28:00.444406407Z",
     "start_time": "2023-05-27T15:28:00.014277758Z"
    }
   }
  },
  {
   "cell_type": "markdown",
   "source": [
    "# create graphs"
   ],
   "metadata": {
    "collapsed": false
   }
  },
  {
   "cell_type": "code",
   "execution_count": 4,
   "outputs": [],
   "source": [
    "graph_similar = defaultdict(lambda: [])\n",
    "original_similar_pairs = set()\n",
    "for _, (qid1, qid2, question1, question2, is_duplicate) in data_pairs.iterrows():\n",
    "    if not is_duplicate: continue\n",
    "\n",
    "    graph_similar[qid1].append(qid2)\n",
    "    graph_similar[qid2].append(qid1)\n",
    "\n",
    "    lower_id = min(qid1, qid2)\n",
    "    higher_id = max(qid1, qid2)\n",
    "    original_similar_pairs.add((lower_id, higher_id))"
   ],
   "metadata": {
    "collapsed": false,
    "ExecuteTime": {
     "end_time": "2023-05-27T15:28:13.250585420Z",
     "start_time": "2023-05-27T15:28:00.447546597Z"
    }
   }
  },
  {
   "cell_type": "code",
   "execution_count": 5,
   "outputs": [],
   "source": [
    "graph_non_similar = defaultdict(lambda: [])\n",
    "original_non_similar_pairs = set()\n",
    "for _, (qid1, qid2, question1, question2, is_duplicate) in data_pairs.iterrows():\n",
    "    if is_duplicate: continue\n",
    "\n",
    "    graph_non_similar[qid1].append(qid2)\n",
    "    graph_non_similar[qid2].append(qid1)\n",
    "\n",
    "    lower_id = min(qid1, qid2)\n",
    "    higher_id = max(qid1, qid2)\n",
    "    original_non_similar_pairs.add((lower_id, higher_id))"
   ],
   "metadata": {
    "collapsed": false,
    "ExecuteTime": {
     "end_time": "2023-05-27T15:28:26.453392907Z",
     "start_time": "2023-05-27T15:28:13.254196085Z"
    }
   }
  },
  {
   "cell_type": "markdown",
   "source": [
    "# calculate components"
   ],
   "metadata": {
    "collapsed": false
   }
  },
  {
   "cell_type": "code",
   "execution_count": 6,
   "outputs": [],
   "source": [
    "labels = defaultdict(lambda : 0)\n",
    "components = defaultdict(lambda: [])\n",
    "\n",
    "def visit(node, level):\n",
    "    stack = [node]\n",
    "    while len(stack) > 0:\n",
    "        v = stack.pop()\n",
    "        if labels[v] != 0: continue\n",
    "        labels[v] = level\n",
    "        components[level].append(v)\n",
    "        stack += graph_similar[v]\n",
    "\n",
    "level = 0\n",
    "for node in graph_similar:\n",
    "    if labels[node] == 0:\n",
    "        level += 1\n",
    "        visit(node, level)"
   ],
   "metadata": {
    "collapsed": false,
    "ExecuteTime": {
     "end_time": "2023-05-27T15:28:26.729680951Z",
     "start_time": "2023-05-27T15:28:26.551172462Z"
    }
   }
  },
  {
   "cell_type": "markdown",
   "source": [
    "# pozitivne augmentacije"
   ],
   "metadata": {
    "collapsed": false
   }
  },
  {
   "cell_type": "code",
   "execution_count": 7,
   "outputs": [],
   "source": [
    "transitive_positive_neighbours = defaultdict(lambda : 200)\n",
    "\n",
    "def find_positive_transitive_neighbours(node):\n",
    "    depth = 1\n",
    "    visited = {node}\n",
    "    queue = [node]\n",
    "    while len(queue):\n",
    "        next_neighbours = [u for v in queue for u in graph_similar[v] if u not in visited]\n",
    "        for neighbour in next_neighbours:\n",
    "            visited.add(neighbour)\n",
    "            lower_id, higher_id = min(node, neighbour), max(node, neighbour)\n",
    "            transitive_positive_neighbours[(lower_id, higher_id)] = depth\n",
    "\n",
    "        depth += 1\n",
    "        queue = list(set(next_neighbours))\n",
    "\n",
    "for node in graph_similar:\n",
    "    find_positive_transitive_neighbours(node)"
   ],
   "metadata": {
    "collapsed": false,
    "ExecuteTime": {
     "end_time": "2023-05-27T15:28:27.605642632Z",
     "start_time": "2023-05-27T15:28:26.786540437Z"
    }
   }
  },
  {
   "cell_type": "code",
   "execution_count": 8,
   "outputs": [],
   "source": [
    "augmented_positive_pairs = [[], [], []]\n",
    "\n",
    "for pair, depth in transitive_positive_neighbours.items():\n",
    "    if depth == 1: continue\n",
    "    depth = min(depth, 4)\n",
    "    augmented_positive_pairs[depth - 2].append(pair)"
   ],
   "metadata": {
    "collapsed": false,
    "ExecuteTime": {
     "end_time": "2023-05-27T15:28:27.643814608Z",
     "start_time": "2023-05-27T15:28:27.611350574Z"
    }
   }
  },
  {
   "cell_type": "code",
   "execution_count": 9,
   "outputs": [
    {
     "data": {
      "text/plain": "[55490, 17920, 5875]"
     },
     "execution_count": 9,
     "metadata": {},
     "output_type": "execute_result"
    }
   ],
   "source": [
    "[len(pairs) for pairs in augmented_positive_pairs]"
   ],
   "metadata": {
    "collapsed": false,
    "ExecuteTime": {
     "end_time": "2023-05-27T15:28:27.644124320Z",
     "start_time": "2023-05-27T15:28:27.641700176Z"
    }
   }
  },
  {
   "cell_type": "markdown",
   "source": [
    "# negativne augmentacije"
   ],
   "metadata": {
    "collapsed": false
   }
  },
  {
   "cell_type": "code",
   "execution_count": 10,
   "outputs": [],
   "source": [
    "augmented_negative_pairs = set()\n",
    "\n",
    "for qid1, qid2 in original_non_similar_pairs:\n",
    "    k1 = labels[qid1]\n",
    "    k2 = labels[qid2]\n",
    "    if k1 == k2: continue\n",
    "\n",
    "    k1_components = components[k1]\n",
    "    k2_components = components[k2]\n",
    "    for qid1_new, qid2_new in product(k1_components, k2_components):\n",
    "        lower_id = min(qid1_new, qid2_new)\n",
    "        higher_id = max(qid1_new, qid2_new)\n",
    "        augmented_negative_pairs.add((lower_id, higher_id))\n",
    "\n",
    "augmented_negative_pairs = augmented_negative_pairs.difference(original_non_similar_pairs)\n",
    "augmented_negative_pairs = list(augmented_negative_pairs)"
   ],
   "metadata": {
    "collapsed": false,
    "ExecuteTime": {
     "end_time": "2023-05-27T15:28:27.998636614Z",
     "start_time": "2023-05-27T15:28:27.680412658Z"
    }
   }
  },
  {
   "cell_type": "code",
   "execution_count": 11,
   "outputs": [
    {
     "data": {
      "text/plain": "153543"
     },
     "execution_count": 11,
     "metadata": {},
     "output_type": "execute_result"
    }
   ],
   "source": [
    "len(augmented_negative_pairs)"
   ],
   "metadata": {
    "collapsed": false,
    "ExecuteTime": {
     "end_time": "2023-05-27T15:28:28.003131012Z",
     "start_time": "2023-05-27T15:28:28.000840694Z"
    }
   }
  },
  {
   "cell_type": "markdown",
   "source": [
    "# stvaranje dataseta koji sadrzi sve moguce parove"
   ],
   "metadata": {
    "collapsed": false
   }
  },
  {
   "cell_type": "code",
   "execution_count": 12,
   "outputs": [],
   "source": [
    "all_pairs = []\n",
    "for _, (qid1, qid2, question1, question2, is_duplicate) in data_pairs.iterrows():\n",
    "    all_pairs.append([qid1, qid2, question1, question2, is_duplicate])\n",
    "\n",
    "for qid1, qid2 in augmented_positive_pairs[0]:\n",
    "    question1 = data_questions.iloc[qid1 - 1].question\n",
    "    question2 = data_questions.iloc[qid2 - 1].question\n",
    "    all_pairs.append([qid1, qid2, question1, question2, 1])\n",
    "\n",
    "for qid1, qid2 in augmented_positive_pairs[1]:\n",
    "    question1 = data_questions.iloc[qid1 - 1].question\n",
    "    question2 = data_questions.iloc[qid2 - 1].question\n",
    "    all_pairs.append([qid1, qid2, question1, question2, 1])\n",
    "\n",
    "for qid1, qid2 in augmented_positive_pairs[2]:\n",
    "    question1 = data_questions.iloc[qid1 - 1].question\n",
    "    question2 = data_questions.iloc[qid2 - 1].question\n",
    "    all_pairs.append([qid1, qid2, question1, question2, 1])\n",
    "\n",
    "for qid1, qid2 in augmented_negative_pairs:\n",
    "    question1 = data_questions.iloc[qid1 - 1].question\n",
    "    question2 = data_questions.iloc[qid2 - 1].question\n",
    "    all_pairs.append([qid1, qid2, question1, question2, 0])"
   ],
   "metadata": {
    "collapsed": false,
    "ExecuteTime": {
     "end_time": "2023-05-27T15:29:06.980420678Z",
     "start_time": "2023-05-27T15:28:28.006515333Z"
    }
   }
  },
  {
   "cell_type": "code",
   "execution_count": 13,
   "outputs": [
    {
     "data": {
      "text/plain": "637118"
     },
     "execution_count": 13,
     "metadata": {},
     "output_type": "execute_result"
    }
   ],
   "source": [
    "all_pairs_dataset = pd.DataFrame(all_pairs, columns=[\"qid1\", \"qid2\", \"question1\", \"question2\", \"is_duplicate\"])\n",
    "len(all_pairs_dataset)"
   ],
   "metadata": {
    "collapsed": false,
    "ExecuteTime": {
     "end_time": "2023-05-27T15:29:07.305555211Z",
     "start_time": "2023-05-27T15:29:07.198053115Z"
    }
   }
  },
  {
   "cell_type": "code",
   "execution_count": 14,
   "outputs": [],
   "source": [
    "all_pairs_dataset.to_csv(\"./data/all_possible_pairs.csv\", index=False, )"
   ],
   "metadata": {
    "collapsed": false,
    "ExecuteTime": {
     "end_time": "2023-05-27T15:29:08.968889377Z",
     "start_time": "2023-05-27T15:29:07.308419222Z"
    }
   }
  },
  {
   "cell_type": "code",
   "execution_count": null,
   "outputs": [],
   "source": [],
   "metadata": {
    "collapsed": false
   }
  }
 ],
 "metadata": {
  "kernelspec": {
   "display_name": "Python 3",
   "language": "python",
   "name": "python3"
  },
  "language_info": {
   "codemirror_mode": {
    "name": "ipython",
    "version": 2
   },
   "file_extension": ".py",
   "mimetype": "text/x-python",
   "name": "python",
   "nbconvert_exporter": "python",
   "pygments_lexer": "ipython2",
   "version": "2.7.6"
  }
 },
 "nbformat": 4,
 "nbformat_minor": 0
}
